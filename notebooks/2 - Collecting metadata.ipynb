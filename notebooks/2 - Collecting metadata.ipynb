{
 "cells": [
  {
   "cell_type": "code",
   "execution_count": 1,
   "id": "fe7d8c40",
   "metadata": {},
   "outputs": [],
   "source": [
    "import fiona\n",
    "import geopandas as gpd\n",
    "import pandas as pd\n",
    "import shapely\n",
    "from shapely import geometry\n",
    "import json\n",
    "from selenium import webdriver\n",
    "from selenium.webdriver.common.action_chains import ActionChains\n",
    "import googlemaps\n",
    "import time\n",
    "from IPython.core.display import display, HTML\n",
    "from IPython.display import IFrame\n",
    "import re\n",
    "from multiprocessing.dummy import Pool\n",
    "from multiprocessing import cpu_count, freeze_support\n",
    "from functools import partial\n",
    "import ast "
   ]
  },
  {
   "cell_type": "code",
   "execution_count": 2,
   "id": "dc3a251c",
   "metadata": {
    "code_folding": [
     1
    ]
   },
   "outputs": [],
   "source": [
    "#логер\n",
    "def log_progress(sequence, every=None, size=None):\n",
    "    from ipywidgets import IntProgress, HTML, VBox\n",
    "    from IPython.display import display\n",
    "    \n",
    "    is_iterator = False\n",
    "    if size is None:\n",
    "        try:\n",
    "            size = len(sequence)\n",
    "        except TypeError:\n",
    "            is_iterator = True\n",
    "    if size is not None:\n",
    "        if every is None:\n",
    "            if size <= 200:\n",
    "                every = 1\n",
    "            else:\n",
    "                every = size / 200     # every 0.5%\n",
    "    else:\n",
    "        assert every is not None, 'sequence is iterator, set every'\n",
    "\n",
    "    if is_iterator:\n",
    "        progress = IntProgress(min=0, max=1, value=1)\n",
    "        progress.bar_style = 'info'\n",
    "    else:\n",
    "        progress = IntProgress(min=0, max=size, value=0)\n",
    "    label = HTML()\n",
    "    box = VBox(children=[label, progress])\n",
    "    display(box)\n",
    "    \n",
    "    index = 0\n",
    "    try:\n",
    "        for index, record in enumerate(sequence, 1):\n",
    "            \n",
    "            if index == 1 or index % every == 0:\n",
    "                if is_iterator:\n",
    "                    label.value = '{index} / ?'.format(index=index)\n",
    "                else:\n",
    "                    progress.value = index\n",
    "                    label.value = u'{index} / {size}'.format(\n",
    "                        index=index,\n",
    "                        size=size\n",
    "                    )\n",
    "            yield record\n",
    "    except:\n",
    "        progress.bar_style = 'danger'\n",
    "        raise\n",
    "    else:\n",
    "        progress.bar_style = 'success'\n",
    "        progress.value = index\n",
    "        label.value = str(index or '?')"
   ]
  },
  {
   "cell_type": "code",
   "execution_count": 3,
   "id": "8ed27cb3",
   "metadata": {
    "code_folding": [
     0
    ]
   },
   "outputs": [],
   "source": [
    "def getDataFromPage(url, driver):\n",
    "#     print(url, driver)\n",
    "    driver.get(url)\n",
    "    time.sleep(4)\n",
    "    \n",
    "    ret_obj = {}\n",
    "    \n",
    "    ret_obj['url'] = url\n",
    "    \n",
    "    #title\n",
    "    try:\n",
    "        ret_obj['title'] = driver.find_element_by_css_selector('h1[class=\"x3AX1-LfntMc-header-title-title gm2-headline-5\"] span').text\n",
    "    except:\n",
    "        ret_obj['title'] = \"\"\n",
    "        \n",
    "    #address\n",
    "    try:\n",
    "        ret_obj['address'] = driver.find_element_by_css_selector('div[class=\"QSFF4-text gm2-body-2\"]').text\n",
    "    except:\n",
    "        ret_obj['address'] = \"\"\n",
    "    \n",
    "#     #rating\n",
    "#     try:\n",
    "#         ret_obj['rating'] = float(driver.find_element_by_css_selector('span.section-star-display').text.replace(',','.'))\n",
    "#     except:\n",
    "#         ret_obj['rating'] = 0\n",
    "    \n",
    "#     #review\n",
    "#     try:\n",
    "#         review_button = driver.find_element_by_css_selector('button.widget-pane-link[jsaction=\"pane.rating.moreReviews\"]')\n",
    "#         ret_obj['review_counts'] = int(re.search(r'\\d+', review_button.text.replace(' ', ''))[0])\n",
    "#     except:\n",
    "#         ret_obj['review_counts'] = 0\n",
    "        \n",
    "    #category\n",
    "    try:\n",
    "        category_element = driver.find_element_by_css_selector('div[class=\"gm2-body-2\"]')\n",
    "        ret_obj['category'] = category_element.text\n",
    "    except:\n",
    "        try:\n",
    "            category_element = driver.find_element_by_css_selector('h2[class=\"x3AX1-LfntMc-header-title-VdSJob\"]') \n",
    "            ret_obj['category'] = category_element.text\n",
    "        except:\n",
    "            ret_obj['category'] = \"\"\n",
    "    \n",
    "    #review histogram\n",
    "    try:\n",
    "        hist = driver.find_elements_by_xpath('.//tr[contains(@class, \"__histogram\")]')\n",
    "        if len(hist) == 5:\n",
    "            reviews_hist = {\n",
    "                \"5\": int(re.match(r'\\d+', hist[0].get_attribute(\"aria-label\").split(',')[1]).group(0)),\n",
    "                \"4\": int(re.match(r'\\d+', hist[1].get_attribute(\"aria-label\").split(',')[1]).group(0)),\n",
    "                \"3\": int(re.match(r'\\d+', hist[2].get_attribute(\"aria-label\").split(',')[1]).group(0)),\n",
    "                \"2\": int(re.match(r'\\d+', hist[3].get_attribute(\"aria-label\").split(',')[1]).group(0)),\n",
    "                \"1\": int(re.match(r'\\d+', hist[4].get_attribute(\"aria-label\").split(',')[1]).group(0)),\n",
    "            }\n",
    "            \n",
    "            ret_obj['review_hist'] = reviews_hist\n",
    "    except:\n",
    "        ret_obj['reviews_hist'] = {}\n",
    "    \n",
    "    #popular times\n",
    "    try:\n",
    "        popular_times_days_sections = driver.find_elements_by_css_selector('div[class=\"O9Q0Ff-NmME3c-Utye1-haAclf\"]')\n",
    "    \n",
    "#         counter = 0\n",
    "#         days = ['Воскресенье', 'Понедельник', 'Вторник', 'Среда', 'Четверг', 'Пятница', 'Cуббота']\n",
    "#         poptimes = {}\n",
    "        for day in popular_times_days_sections:\n",
    "            ret_obj['popular_times_bars'] = [e.get_attribute(\"aria-label\") for e in day.find_elements_by_css_selector('div.O9Q0Ff-NmME3c-Utye1-ZMv3u')]\n",
    "#             poptimes[days[counter]] = pop_times_bars\n",
    "#             counter+=1\n",
    "#         ret_obj['popular_times_bars'] = pop_times_bars\n",
    "           \n",
    "    except Exception as e:\n",
    "        ret_obj['popular_times_bars'] = {}\n",
    "    \n",
    "        \n",
    "    return ret_obj"
   ]
  },
  {
   "cell_type": "code",
   "execution_count": 4,
   "id": "67b9fb28",
   "metadata": {},
   "outputs": [],
   "source": [
    "def google_scraping_func(url_list):\n",
    "    driver = webdriver.Chrome('chromedriver.exe')\n",
    "    \n",
    "    for url in log_progress(url_list, 1):\n",
    "        place = getDataFromPage(url, driver)\n",
    "        places.append(place)\n",
    "    \n",
    "    return places"
   ]
  },
  {
   "cell_type": "code",
   "execution_count": 263,
   "id": "a3cb278c",
   "metadata": {},
   "outputs": [],
   "source": [
    "df = pd.read_csv('../data/raw_data.csv')"
   ]
  },
  {
   "cell_type": "code",
   "execution_count": 37,
   "id": "8756e2fd",
   "metadata": {
    "scrolled": true
   },
   "outputs": [
    {
     "data": {
      "text/html": [
       "<div>\n",
       "<style scoped>\n",
       "    .dataframe tbody tr th:only-of-type {\n",
       "        vertical-align: middle;\n",
       "    }\n",
       "\n",
       "    .dataframe tbody tr th {\n",
       "        vertical-align: top;\n",
       "    }\n",
       "\n",
       "    .dataframe thead th {\n",
       "        text-align: right;\n",
       "    }\n",
       "</style>\n",
       "<table border=\"1\" class=\"dataframe\">\n",
       "  <thead>\n",
       "    <tr style=\"text-align: right;\">\n",
       "      <th></th>\n",
       "      <th>business_status</th>\n",
       "      <th>geometry</th>\n",
       "      <th>icon</th>\n",
       "      <th>icon_background_color</th>\n",
       "      <th>icon_mask_base_uri</th>\n",
       "      <th>name</th>\n",
       "      <th>photos</th>\n",
       "      <th>place_id</th>\n",
       "      <th>plus_code</th>\n",
       "      <th>rating</th>\n",
       "      <th>reference</th>\n",
       "      <th>scope</th>\n",
       "      <th>types</th>\n",
       "      <th>user_ratings_total</th>\n",
       "      <th>vicinity</th>\n",
       "      <th>opening_hours</th>\n",
       "      <th>price_level</th>\n",
       "      <th>lat</th>\n",
       "      <th>lon</th>\n",
       "      <th>url</th>\n",
       "    </tr>\n",
       "  </thead>\n",
       "  <tbody>\n",
       "    <tr>\n",
       "      <th>0</th>\n",
       "      <td>OPERATIONAL</td>\n",
       "      <td>POINT (39.0925118 45.0370921)</td>\n",
       "      <td>https://maps.gstatic.com/mapfiles/place_api/ic...</td>\n",
       "      <td>#4DB546</td>\n",
       "      <td>https://maps.gstatic.com/mapfiles/place_api/ic...</td>\n",
       "      <td>Сквер «Субботний»</td>\n",
       "      <td>[{'height': 2250, 'html_attributions': ['&lt;a hr...</td>\n",
       "      <td>ChIJ1wuQEOda8EARP7B99phyQNc</td>\n",
       "      <td>{'compound_code': '23PV+R2 Krasnodar', 'global...</td>\n",
       "      <td>3.7</td>\n",
       "      <td>ChIJ1wuQEOda8EARP7B99phyQNc</td>\n",
       "      <td>GOOGLE</td>\n",
       "      <td>['park', 'point_of_interest', 'establishment']</td>\n",
       "      <td>3</td>\n",
       "      <td>Ulitsa Ural'skaya, 158, Krasnodar</td>\n",
       "      <td>NaN</td>\n",
       "      <td>NaN</td>\n",
       "      <td>45.037092</td>\n",
       "      <td>39.092512</td>\n",
       "      <td>https://www.google.com/maps/place/?q=place_id:...</td>\n",
       "    </tr>\n",
       "    <tr>\n",
       "      <th>1</th>\n",
       "      <td>OPERATIONAL</td>\n",
       "      <td>POINT (39.097586 45.0420204)</td>\n",
       "      <td>https://maps.gstatic.com/mapfiles/place_api/ic...</td>\n",
       "      <td>#4DB546</td>\n",
       "      <td>https://maps.gstatic.com/mapfiles/place_api/ic...</td>\n",
       "      <td>Сквер «Субботний»</td>\n",
       "      <td>NaN</td>\n",
       "      <td>ChIJ1wuQEOda8EARJS-lBjJCrCI</td>\n",
       "      <td>{'compound_code': '23RX+R2 Krasnodar', 'global...</td>\n",
       "      <td>0.0</td>\n",
       "      <td>ChIJ1wuQEOda8EARJS-lBjJCrCI</td>\n",
       "      <td>GOOGLE</td>\n",
       "      <td>['park', 'point_of_interest', 'establishment']</td>\n",
       "      <td>0</td>\n",
       "      <td>Ulitsa Ural'skaya, 158, Krasnodar</td>\n",
       "      <td>NaN</td>\n",
       "      <td>NaN</td>\n",
       "      <td>45.042020</td>\n",
       "      <td>39.097586</td>\n",
       "      <td>https://www.google.com/maps/place/?q=place_id:...</td>\n",
       "    </tr>\n",
       "    <tr>\n",
       "      <th>2</th>\n",
       "      <td>OPERATIONAL</td>\n",
       "      <td>POINT (39.0955591 45.0224408)</td>\n",
       "      <td>https://maps.gstatic.com/mapfiles/place_api/ic...</td>\n",
       "      <td>#4DB546</td>\n",
       "      <td>https://maps.gstatic.com/mapfiles/place_api/ic...</td>\n",
       "      <td>Skver</td>\n",
       "      <td>[{'height': 4320, 'html_attributions': ['&lt;a hr...</td>\n",
       "      <td>ChIJ1-XXYIla8EAR6qWh11NYY8A</td>\n",
       "      <td>{'compound_code': '23CW+X6 Krasnodar', 'global...</td>\n",
       "      <td>4.4</td>\n",
       "      <td>ChIJ1-XXYIla8EAR6qWh11NYY8A</td>\n",
       "      <td>GOOGLE</td>\n",
       "      <td>['park', 'point_of_interest', 'establishment']</td>\n",
       "      <td>666</td>\n",
       "      <td>к, Ulitsa Kirova, 183к2, Krasnodar</td>\n",
       "      <td>{'open_now': True}</td>\n",
       "      <td>NaN</td>\n",
       "      <td>45.022441</td>\n",
       "      <td>39.095559</td>\n",
       "      <td>https://www.google.com/maps/place/?q=place_id:...</td>\n",
       "    </tr>\n",
       "    <tr>\n",
       "      <th>3</th>\n",
       "      <td>OPERATIONAL</td>\n",
       "      <td>POINT (39.0382741 45.07198229999999)</td>\n",
       "      <td>https://maps.gstatic.com/mapfiles/place_api/ic...</td>\n",
       "      <td>#4DB546</td>\n",
       "      <td>https://maps.gstatic.com/mapfiles/place_api/ic...</td>\n",
       "      <td>Skver Serdtse Gubernskogo</td>\n",
       "      <td>NaN</td>\n",
       "      <td>ChIJr4MvRudF8EARPAAyBpE8PcU</td>\n",
       "      <td>{'compound_code': '32CQ+Q8 Krasnodar', 'global...</td>\n",
       "      <td>5.0</td>\n",
       "      <td>ChIJr4MvRudF8EARPAAyBpE8PcU</td>\n",
       "      <td>GOOGLE</td>\n",
       "      <td>['park', 'point_of_interest', 'establishment']</td>\n",
       "      <td>5</td>\n",
       "      <td>Ulitsa Dombayskaya, 15, Krasnodar</td>\n",
       "      <td>NaN</td>\n",
       "      <td>NaN</td>\n",
       "      <td>45.071982</td>\n",
       "      <td>39.038274</td>\n",
       "      <td>https://www.google.com/maps/place/?q=place_id:...</td>\n",
       "    </tr>\n",
       "    <tr>\n",
       "      <th>4</th>\n",
       "      <td>OPERATIONAL</td>\n",
       "      <td>POINT (39.1035563 45.0129496)</td>\n",
       "      <td>https://maps.gstatic.com/mapfiles/place_api/ic...</td>\n",
       "      <td>#7B9EB0</td>\n",
       "      <td>https://maps.gstatic.com/mapfiles/place_api/ic...</td>\n",
       "      <td>Ботанический сад 1/ КубГУ</td>\n",
       "      <td>NaN</td>\n",
       "      <td>ChIJj1KR7K5b8EAR2sEDSquYAtU</td>\n",
       "      <td>{'compound_code': '2473+5C Krasnodar', 'global...</td>\n",
       "      <td>4.0</td>\n",
       "      <td>ChIJj1KR7K5b8EAR2sEDSquYAtU</td>\n",
       "      <td>GOOGLE</td>\n",
       "      <td>['university', 'point_of_interest', 'establish...</td>\n",
       "      <td>2</td>\n",
       "      <td>Ulitsa Gogolya, 92, Krasnodar</td>\n",
       "      <td>NaN</td>\n",
       "      <td>NaN</td>\n",
       "      <td>45.012950</td>\n",
       "      <td>39.103556</td>\n",
       "      <td>https://www.google.com/maps/place/?q=place_id:...</td>\n",
       "    </tr>\n",
       "  </tbody>\n",
       "</table>\n",
       "</div>"
      ],
      "text/plain": [
       "  business_status                              geometry  \\\n",
       "0     OPERATIONAL         POINT (39.0925118 45.0370921)   \n",
       "1     OPERATIONAL          POINT (39.097586 45.0420204)   \n",
       "2     OPERATIONAL         POINT (39.0955591 45.0224408)   \n",
       "3     OPERATIONAL  POINT (39.0382741 45.07198229999999)   \n",
       "4     OPERATIONAL         POINT (39.1035563 45.0129496)   \n",
       "\n",
       "                                                icon icon_background_color  \\\n",
       "0  https://maps.gstatic.com/mapfiles/place_api/ic...               #4DB546   \n",
       "1  https://maps.gstatic.com/mapfiles/place_api/ic...               #4DB546   \n",
       "2  https://maps.gstatic.com/mapfiles/place_api/ic...               #4DB546   \n",
       "3  https://maps.gstatic.com/mapfiles/place_api/ic...               #4DB546   \n",
       "4  https://maps.gstatic.com/mapfiles/place_api/ic...               #7B9EB0   \n",
       "\n",
       "                                  icon_mask_base_uri  \\\n",
       "0  https://maps.gstatic.com/mapfiles/place_api/ic...   \n",
       "1  https://maps.gstatic.com/mapfiles/place_api/ic...   \n",
       "2  https://maps.gstatic.com/mapfiles/place_api/ic...   \n",
       "3  https://maps.gstatic.com/mapfiles/place_api/ic...   \n",
       "4  https://maps.gstatic.com/mapfiles/place_api/ic...   \n",
       "\n",
       "                        name  \\\n",
       "0          Сквер «Субботний»   \n",
       "1          Сквер «Субботний»   \n",
       "2                      Skver   \n",
       "3  Skver Serdtse Gubernskogo   \n",
       "4  Ботанический сад 1/ КубГУ   \n",
       "\n",
       "                                              photos  \\\n",
       "0  [{'height': 2250, 'html_attributions': ['<a hr...   \n",
       "1                                                NaN   \n",
       "2  [{'height': 4320, 'html_attributions': ['<a hr...   \n",
       "3                                                NaN   \n",
       "4                                                NaN   \n",
       "\n",
       "                      place_id  \\\n",
       "0  ChIJ1wuQEOda8EARP7B99phyQNc   \n",
       "1  ChIJ1wuQEOda8EARJS-lBjJCrCI   \n",
       "2  ChIJ1-XXYIla8EAR6qWh11NYY8A   \n",
       "3  ChIJr4MvRudF8EARPAAyBpE8PcU   \n",
       "4  ChIJj1KR7K5b8EAR2sEDSquYAtU   \n",
       "\n",
       "                                           plus_code  rating  \\\n",
       "0  {'compound_code': '23PV+R2 Krasnodar', 'global...     3.7   \n",
       "1  {'compound_code': '23RX+R2 Krasnodar', 'global...     0.0   \n",
       "2  {'compound_code': '23CW+X6 Krasnodar', 'global...     4.4   \n",
       "3  {'compound_code': '32CQ+Q8 Krasnodar', 'global...     5.0   \n",
       "4  {'compound_code': '2473+5C Krasnodar', 'global...     4.0   \n",
       "\n",
       "                     reference   scope  \\\n",
       "0  ChIJ1wuQEOda8EARP7B99phyQNc  GOOGLE   \n",
       "1  ChIJ1wuQEOda8EARJS-lBjJCrCI  GOOGLE   \n",
       "2  ChIJ1-XXYIla8EAR6qWh11NYY8A  GOOGLE   \n",
       "3  ChIJr4MvRudF8EARPAAyBpE8PcU  GOOGLE   \n",
       "4  ChIJj1KR7K5b8EAR2sEDSquYAtU  GOOGLE   \n",
       "\n",
       "                                               types  user_ratings_total  \\\n",
       "0     ['park', 'point_of_interest', 'establishment']                   3   \n",
       "1     ['park', 'point_of_interest', 'establishment']                   0   \n",
       "2     ['park', 'point_of_interest', 'establishment']                 666   \n",
       "3     ['park', 'point_of_interest', 'establishment']                   5   \n",
       "4  ['university', 'point_of_interest', 'establish...                   2   \n",
       "\n",
       "                             vicinity       opening_hours  price_level  \\\n",
       "0   Ulitsa Ural'skaya, 158, Krasnodar                 NaN          NaN   \n",
       "1   Ulitsa Ural'skaya, 158, Krasnodar                 NaN          NaN   \n",
       "2  к, Ulitsa Kirova, 183к2, Krasnodar  {'open_now': True}          NaN   \n",
       "3   Ulitsa Dombayskaya, 15, Krasnodar                 NaN          NaN   \n",
       "4       Ulitsa Gogolya, 92, Krasnodar                 NaN          NaN   \n",
       "\n",
       "         lat        lon                                                url  \n",
       "0  45.037092  39.092512  https://www.google.com/maps/place/?q=place_id:...  \n",
       "1  45.042020  39.097586  https://www.google.com/maps/place/?q=place_id:...  \n",
       "2  45.022441  39.095559  https://www.google.com/maps/place/?q=place_id:...  \n",
       "3  45.071982  39.038274  https://www.google.com/maps/place/?q=place_id:...  \n",
       "4  45.012950  39.103556  https://www.google.com/maps/place/?q=place_id:...  "
      ]
     },
     "execution_count": 37,
     "metadata": {},
     "output_type": "execute_result"
    }
   ],
   "source": [
    "df.head()"
   ]
  },
  {
   "cell_type": "markdown",
   "id": "08d79c8d",
   "metadata": {},
   "source": [
    "Места с наличием отзывов (рейтинга)"
   ]
  },
  {
   "cell_type": "code",
   "execution_count": 56,
   "id": "191f414c",
   "metadata": {},
   "outputs": [
    {
     "data": {
      "text/plain": [
       "(8329, 21)"
      ]
     },
     "execution_count": 56,
     "metadata": {},
     "output_type": "execute_result"
    }
   ],
   "source": [
    "df.loc[(~df.rating.isna())].shape[0]"
   ]
  },
  {
   "cell_type": "code",
   "execution_count": 81,
   "id": "c84dec4e",
   "metadata": {},
   "outputs": [
    {
     "data": {
      "text/plain": [
       "{'locality',\n",
       " 'neighborhood',\n",
       " 'political',\n",
       " 'sublocality',\n",
       " 'sublocality_level_1',\n",
       " 'sublocality_level_2'}"
      ]
     },
     "execution_count": 81,
     "metadata": {},
     "output_type": "execute_result"
    }
   ],
   "source": [
    "set(df['types'].apply(lambda s: list(ast.literal_eval(s))).explode().value_counts().keys()) - \\\n",
    "set(df.loc[(~df.rating.isna()), 'types'].apply(lambda s: list(ast.literal_eval(s))).explode().value_counts().keys())"
   ]
  },
  {
   "cell_type": "code",
   "execution_count": 213,
   "id": "416378b3",
   "metadata": {},
   "outputs": [],
   "source": [
    "places_df = pd.read_csv('../data/places_GP_temp.csv')"
   ]
  },
  {
   "cell_type": "code",
   "execution_count": 264,
   "id": "d4bd45e6",
   "metadata": {},
   "outputs": [],
   "source": [
    "places = []"
   ]
  },
  {
   "cell_type": "code",
   "execution_count": 265,
   "id": "dec46ba1",
   "metadata": {},
   "outputs": [
    {
     "data": {
      "application/vnd.jupyter.widget-view+json": {
       "model_id": "cdecb4b7b7974274aa2759cb276f6888",
       "version_major": 2,
       "version_minor": 0
      },
      "text/plain": [
       "VBox(children=(HTML(value=''), IntProgress(value=0, max=115)))"
      ]
     },
     "metadata": {},
     "output_type": "display_data"
    },
    {
     "data": {
      "application/vnd.jupyter.widget-view+json": {
       "model_id": "a3eedcd80599480b922d50eef2b1780f",
       "version_major": 2,
       "version_minor": 0
      },
      "text/plain": [
       "VBox(children=(HTML(value=''), IntProgress(value=0, max=115)))"
      ]
     },
     "metadata": {},
     "output_type": "display_data"
    },
    {
     "data": {
      "application/vnd.jupyter.widget-view+json": {
       "model_id": "506e79172aa44de19ba871e08d90fd21",
       "version_major": 2,
       "version_minor": 0
      },
      "text/plain": [
       "VBox(children=(HTML(value=''), IntProgress(value=0, max=114)))"
      ]
     },
     "metadata": {},
     "output_type": "display_data"
    },
    {
     "data": {
      "application/vnd.jupyter.widget-view+json": {
       "model_id": "5f8cbcc13c7147959ba56cbba7744151",
       "version_major": 2,
       "version_minor": 0
      },
      "text/plain": [
       "VBox(children=(HTML(value=''), IntProgress(value=0, max=115)))"
      ]
     },
     "metadata": {},
     "output_type": "display_data"
    },
    {
     "data": {
      "application/vnd.jupyter.widget-view+json": {
       "model_id": "199f1969b9734ecaad08ca3690e590b5",
       "version_major": 2,
       "version_minor": 0
      },
      "text/plain": [
       "VBox(children=(HTML(value=''), IntProgress(value=0, max=114)))"
      ]
     },
     "metadata": {},
     "output_type": "display_data"
    },
    {
     "data": {
      "application/vnd.jupyter.widget-view+json": {
       "model_id": "98e4771f80ff47b399e097d43723402d",
       "version_major": 2,
       "version_minor": 0
      },
      "text/plain": [
       "VBox(children=(HTML(value=''), IntProgress(value=0, max=115)))"
      ]
     },
     "metadata": {},
     "output_type": "display_data"
    },
    {
     "data": {
      "application/vnd.jupyter.widget-view+json": {
       "model_id": "d0ceb3c36ab44761b3a5f142400bd4c8",
       "version_major": 2,
       "version_minor": 0
      },
      "text/plain": [
       "VBox(children=(HTML(value=''), IntProgress(value=0, max=114)))"
      ]
     },
     "metadata": {},
     "output_type": "display_data"
    }
   ],
   "source": [
    "datalist = df.loc[~df.url.isin(places_df.url), 'url']\n",
    "\n",
    "if __name__== \"__main__\":\n",
    "    freeze_support()\n",
    "    pool = Pool()\n",
    "\n",
    "    # max number of parallel process\n",
    "    ITERATION_COUNT = cpu_count()-1 if len(datalist) >= cpu_count()-1 else len(datalist)\n",
    "\n",
    "    count_per_iteration = len(datalist) / float(ITERATION_COUNT)\n",
    "\n",
    "    for i in range(0, ITERATION_COUNT):\n",
    "        list_start = int(count_per_iteration * i)\n",
    "        list_end = int(count_per_iteration * (i+1))\n",
    "        pool.apply_async(google_scraping_func, [datalist[list_start:list_end]])"
   ]
  },
  {
   "cell_type": "code",
   "execution_count": 266,
   "id": "797548aa",
   "metadata": {},
   "outputs": [
    {
     "data": {
      "text/plain": [
       "(802, 5)"
      ]
     },
     "execution_count": 266,
     "metadata": {},
     "output_type": "execute_result"
    }
   ],
   "source": [
    "df_p = pd.DataFrame(places)\n",
    "df_p.shape"
   ]
  },
  {
   "cell_type": "markdown",
   "id": "20fd66f1",
   "metadata": {},
   "source": [
    "## Проверка сколько осталось"
   ]
  },
  {
   "cell_type": "code",
   "execution_count": 336,
   "id": "dfe1256a",
   "metadata": {
    "scrolled": true
   },
   "outputs": [
    {
     "data": {
      "text/plain": [
       "43"
      ]
     },
     "execution_count": 336,
     "metadata": {},
     "output_type": "execute_result"
    }
   ],
   "source": [
    "df_p = pd.DataFrame(places)\n",
    "size = df_p.shape[0]\n",
    "end = 0\n",
    "for i in range(0,60):\n",
    "    df_p = pd.DataFrame(places)\n",
    "    end = df_p.shape[0]\n",
    "    time.sleep(1)\n",
    "end-size"
   ]
  },
  {
   "cell_type": "code",
   "execution_count": 365,
   "id": "f530de3f",
   "metadata": {},
   "outputs": [
    {
     "data": {
      "text/plain": [
       "(96, 4.1395348837209305)"
      ]
     },
     "execution_count": 365,
     "metadata": {},
     "output_type": "execute_result"
    }
   ],
   "source": [
    "len(df.loc[~df.url.isin(df_p.url)]),len(df.loc[~df.url.isin(gdf.url)])/(end-size)"
   ]
  },
  {
   "cell_type": "markdown",
   "id": "3bdeb458",
   "metadata": {},
   "source": [
    "## Создание датасета"
   ]
  },
  {
   "cell_type": "code",
   "execution_count": 267,
   "id": "18791fbb",
   "metadata": {},
   "outputs": [],
   "source": [
    "gdf = gpd.GeoDataFrame(df_p.merge(df[['url', 'geometry', 'types', 'rating', 'user_ratings_total']]))"
   ]
  },
  {
   "cell_type": "code",
   "execution_count": 268,
   "id": "fbe5de9d",
   "metadata": {
    "scrolled": true
   },
   "outputs": [],
   "source": [
    "gdf.geometry = [shapely.wkt.loads(r['geometry']) for i, r in gdf.iterrows()]"
   ]
  },
  {
   "cell_type": "code",
   "execution_count": 269,
   "id": "269d8b9f",
   "metadata": {},
   "outputs": [],
   "source": [
    "gdf.drop_duplicates('url', inplace = True)"
   ]
  },
  {
   "cell_type": "code",
   "execution_count": 262,
   "id": "173d1a2e",
   "metadata": {},
   "outputs": [],
   "source": [
    "places_df.to_csv('../data/places_GP_temp.csv', index = False)"
   ]
  },
  {
   "cell_type": "code",
   "execution_count": 14,
   "id": "091e764c",
   "metadata": {
    "collapsed": true
   },
   "outputs": [
    {
     "ename": "KeyError",
     "evalue": "\"['reviews_hist'] not found in axis\"",
     "output_type": "error",
     "traceback": [
      "\u001b[1;31m---------------------------------------------------------------------------\u001b[0m",
      "\u001b[1;31mKeyError\u001b[0m                                  Traceback (most recent call last)",
      "\u001b[1;32m~\\AppData\\Local\\Temp/ipykernel_1484/3860099620.py\u001b[0m in \u001b[0;36m<module>\u001b[1;34m\u001b[0m\n\u001b[1;32m----> 1\u001b[1;33m \u001b[0mgdf\u001b[0m\u001b[1;33m.\u001b[0m\u001b[0mdrop\u001b[0m\u001b[1;33m(\u001b[0m\u001b[0mcolumns\u001b[0m \u001b[1;33m=\u001b[0m \u001b[1;34m'reviews_hist'\u001b[0m\u001b[1;33m,\u001b[0m \u001b[0minplace\u001b[0m \u001b[1;33m=\u001b[0m \u001b[1;32mTrue\u001b[0m\u001b[1;33m)\u001b[0m\u001b[1;33m\u001b[0m\u001b[1;33m\u001b[0m\u001b[0m\n\u001b[0m",
      "\u001b[1;32m~\\anaconda3\\envs\\python-gis\\lib\\site-packages\\pandas\\util\\_decorators.py\u001b[0m in \u001b[0;36mwrapper\u001b[1;34m(*args, **kwargs)\u001b[0m\n\u001b[0;32m    309\u001b[0m                     \u001b[0mstacklevel\u001b[0m\u001b[1;33m=\u001b[0m\u001b[0mstacklevel\u001b[0m\u001b[1;33m,\u001b[0m\u001b[1;33m\u001b[0m\u001b[1;33m\u001b[0m\u001b[0m\n\u001b[0;32m    310\u001b[0m                 )\n\u001b[1;32m--> 311\u001b[1;33m             \u001b[1;32mreturn\u001b[0m \u001b[0mfunc\u001b[0m\u001b[1;33m(\u001b[0m\u001b[1;33m*\u001b[0m\u001b[0margs\u001b[0m\u001b[1;33m,\u001b[0m \u001b[1;33m**\u001b[0m\u001b[0mkwargs\u001b[0m\u001b[1;33m)\u001b[0m\u001b[1;33m\u001b[0m\u001b[1;33m\u001b[0m\u001b[0m\n\u001b[0m\u001b[0;32m    312\u001b[0m \u001b[1;33m\u001b[0m\u001b[0m\n\u001b[0;32m    313\u001b[0m         \u001b[1;32mreturn\u001b[0m \u001b[0mwrapper\u001b[0m\u001b[1;33m\u001b[0m\u001b[1;33m\u001b[0m\u001b[0m\n",
      "\u001b[1;32m~\\anaconda3\\envs\\python-gis\\lib\\site-packages\\pandas\\core\\frame.py\u001b[0m in \u001b[0;36mdrop\u001b[1;34m(self, labels, axis, index, columns, level, inplace, errors)\u001b[0m\n\u001b[0;32m   4904\u001b[0m                 \u001b[0mweight\u001b[0m  \u001b[1;36m1.0\u001b[0m     \u001b[1;36m0.8\u001b[0m\u001b[1;33m\u001b[0m\u001b[1;33m\u001b[0m\u001b[0m\n\u001b[0;32m   4905\u001b[0m         \"\"\"\n\u001b[1;32m-> 4906\u001b[1;33m         return super().drop(\n\u001b[0m\u001b[0;32m   4907\u001b[0m             \u001b[0mlabels\u001b[0m\u001b[1;33m=\u001b[0m\u001b[0mlabels\u001b[0m\u001b[1;33m,\u001b[0m\u001b[1;33m\u001b[0m\u001b[1;33m\u001b[0m\u001b[0m\n\u001b[0;32m   4908\u001b[0m             \u001b[0maxis\u001b[0m\u001b[1;33m=\u001b[0m\u001b[0maxis\u001b[0m\u001b[1;33m,\u001b[0m\u001b[1;33m\u001b[0m\u001b[1;33m\u001b[0m\u001b[0m\n",
      "\u001b[1;32m~\\anaconda3\\envs\\python-gis\\lib\\site-packages\\pandas\\core\\generic.py\u001b[0m in \u001b[0;36mdrop\u001b[1;34m(self, labels, axis, index, columns, level, inplace, errors)\u001b[0m\n\u001b[0;32m   4148\u001b[0m         \u001b[1;32mfor\u001b[0m \u001b[0maxis\u001b[0m\u001b[1;33m,\u001b[0m \u001b[0mlabels\u001b[0m \u001b[1;32min\u001b[0m \u001b[0maxes\u001b[0m\u001b[1;33m.\u001b[0m\u001b[0mitems\u001b[0m\u001b[1;33m(\u001b[0m\u001b[1;33m)\u001b[0m\u001b[1;33m:\u001b[0m\u001b[1;33m\u001b[0m\u001b[1;33m\u001b[0m\u001b[0m\n\u001b[0;32m   4149\u001b[0m             \u001b[1;32mif\u001b[0m \u001b[0mlabels\u001b[0m \u001b[1;32mis\u001b[0m \u001b[1;32mnot\u001b[0m \u001b[1;32mNone\u001b[0m\u001b[1;33m:\u001b[0m\u001b[1;33m\u001b[0m\u001b[1;33m\u001b[0m\u001b[0m\n\u001b[1;32m-> 4150\u001b[1;33m                 \u001b[0mobj\u001b[0m \u001b[1;33m=\u001b[0m \u001b[0mobj\u001b[0m\u001b[1;33m.\u001b[0m\u001b[0m_drop_axis\u001b[0m\u001b[1;33m(\u001b[0m\u001b[0mlabels\u001b[0m\u001b[1;33m,\u001b[0m \u001b[0maxis\u001b[0m\u001b[1;33m,\u001b[0m \u001b[0mlevel\u001b[0m\u001b[1;33m=\u001b[0m\u001b[0mlevel\u001b[0m\u001b[1;33m,\u001b[0m \u001b[0merrors\u001b[0m\u001b[1;33m=\u001b[0m\u001b[0merrors\u001b[0m\u001b[1;33m)\u001b[0m\u001b[1;33m\u001b[0m\u001b[1;33m\u001b[0m\u001b[0m\n\u001b[0m\u001b[0;32m   4151\u001b[0m \u001b[1;33m\u001b[0m\u001b[0m\n\u001b[0;32m   4152\u001b[0m         \u001b[1;32mif\u001b[0m \u001b[0minplace\u001b[0m\u001b[1;33m:\u001b[0m\u001b[1;33m\u001b[0m\u001b[1;33m\u001b[0m\u001b[0m\n",
      "\u001b[1;32m~\\anaconda3\\envs\\python-gis\\lib\\site-packages\\pandas\\core\\generic.py\u001b[0m in \u001b[0;36m_drop_axis\u001b[1;34m(self, labels, axis, level, errors)\u001b[0m\n\u001b[0;32m   4183\u001b[0m                 \u001b[0mnew_axis\u001b[0m \u001b[1;33m=\u001b[0m \u001b[0maxis\u001b[0m\u001b[1;33m.\u001b[0m\u001b[0mdrop\u001b[0m\u001b[1;33m(\u001b[0m\u001b[0mlabels\u001b[0m\u001b[1;33m,\u001b[0m \u001b[0mlevel\u001b[0m\u001b[1;33m=\u001b[0m\u001b[0mlevel\u001b[0m\u001b[1;33m,\u001b[0m \u001b[0merrors\u001b[0m\u001b[1;33m=\u001b[0m\u001b[0merrors\u001b[0m\u001b[1;33m)\u001b[0m\u001b[1;33m\u001b[0m\u001b[1;33m\u001b[0m\u001b[0m\n\u001b[0;32m   4184\u001b[0m             \u001b[1;32melse\u001b[0m\u001b[1;33m:\u001b[0m\u001b[1;33m\u001b[0m\u001b[1;33m\u001b[0m\u001b[0m\n\u001b[1;32m-> 4185\u001b[1;33m                 \u001b[0mnew_axis\u001b[0m \u001b[1;33m=\u001b[0m \u001b[0maxis\u001b[0m\u001b[1;33m.\u001b[0m\u001b[0mdrop\u001b[0m\u001b[1;33m(\u001b[0m\u001b[0mlabels\u001b[0m\u001b[1;33m,\u001b[0m \u001b[0merrors\u001b[0m\u001b[1;33m=\u001b[0m\u001b[0merrors\u001b[0m\u001b[1;33m)\u001b[0m\u001b[1;33m\u001b[0m\u001b[1;33m\u001b[0m\u001b[0m\n\u001b[0m\u001b[0;32m   4186\u001b[0m             \u001b[0mresult\u001b[0m \u001b[1;33m=\u001b[0m \u001b[0mself\u001b[0m\u001b[1;33m.\u001b[0m\u001b[0mreindex\u001b[0m\u001b[1;33m(\u001b[0m\u001b[1;33m**\u001b[0m\u001b[1;33m{\u001b[0m\u001b[0maxis_name\u001b[0m\u001b[1;33m:\u001b[0m \u001b[0mnew_axis\u001b[0m\u001b[1;33m}\u001b[0m\u001b[1;33m)\u001b[0m\u001b[1;33m\u001b[0m\u001b[1;33m\u001b[0m\u001b[0m\n\u001b[0;32m   4187\u001b[0m \u001b[1;33m\u001b[0m\u001b[0m\n",
      "\u001b[1;32m~\\anaconda3\\envs\\python-gis\\lib\\site-packages\\pandas\\core\\indexes\\base.py\u001b[0m in \u001b[0;36mdrop\u001b[1;34m(self, labels, errors)\u001b[0m\n\u001b[0;32m   6015\u001b[0m         \u001b[1;32mif\u001b[0m \u001b[0mmask\u001b[0m\u001b[1;33m.\u001b[0m\u001b[0many\u001b[0m\u001b[1;33m(\u001b[0m\u001b[1;33m)\u001b[0m\u001b[1;33m:\u001b[0m\u001b[1;33m\u001b[0m\u001b[1;33m\u001b[0m\u001b[0m\n\u001b[0;32m   6016\u001b[0m             \u001b[1;32mif\u001b[0m \u001b[0merrors\u001b[0m \u001b[1;33m!=\u001b[0m \u001b[1;34m\"ignore\"\u001b[0m\u001b[1;33m:\u001b[0m\u001b[1;33m\u001b[0m\u001b[1;33m\u001b[0m\u001b[0m\n\u001b[1;32m-> 6017\u001b[1;33m                 \u001b[1;32mraise\u001b[0m \u001b[0mKeyError\u001b[0m\u001b[1;33m(\u001b[0m\u001b[1;34mf\"{labels[mask]} not found in axis\"\u001b[0m\u001b[1;33m)\u001b[0m\u001b[1;33m\u001b[0m\u001b[1;33m\u001b[0m\u001b[0m\n\u001b[0m\u001b[0;32m   6018\u001b[0m             \u001b[0mindexer\u001b[0m \u001b[1;33m=\u001b[0m \u001b[0mindexer\u001b[0m\u001b[1;33m[\u001b[0m\u001b[1;33m~\u001b[0m\u001b[0mmask\u001b[0m\u001b[1;33m]\u001b[0m\u001b[1;33m\u001b[0m\u001b[1;33m\u001b[0m\u001b[0m\n\u001b[0;32m   6019\u001b[0m         \u001b[1;32mreturn\u001b[0m \u001b[0mself\u001b[0m\u001b[1;33m.\u001b[0m\u001b[0mdelete\u001b[0m\u001b[1;33m(\u001b[0m\u001b[0mindexer\u001b[0m\u001b[1;33m)\u001b[0m\u001b[1;33m\u001b[0m\u001b[1;33m\u001b[0m\u001b[0m\n",
      "\u001b[1;31mKeyError\u001b[0m: \"['reviews_hist'] not found in axis\""
     ]
    }
   ],
   "source": [
    "gdf.drop(columns = 'reviews_hist', inplace = True)"
   ]
  },
  {
   "cell_type": "code",
   "execution_count": 85,
   "id": "8e9bc0db",
   "metadata": {
    "scrolled": true
   },
   "outputs": [
    {
     "data": {
      "text/html": [
       "<div>\n",
       "<style scoped>\n",
       "    .dataframe tbody tr th:only-of-type {\n",
       "        vertical-align: middle;\n",
       "    }\n",
       "\n",
       "    .dataframe tbody tr th {\n",
       "        vertical-align: top;\n",
       "    }\n",
       "\n",
       "    .dataframe thead th {\n",
       "        text-align: right;\n",
       "    }\n",
       "</style>\n",
       "<table border=\"1\" class=\"dataframe\">\n",
       "  <thead>\n",
       "    <tr style=\"text-align: right;\">\n",
       "      <th></th>\n",
       "      <th>url</th>\n",
       "      <th>title</th>\n",
       "      <th>address</th>\n",
       "      <th>category</th>\n",
       "      <th>popular_times_bars</th>\n",
       "      <th>geometry</th>\n",
       "      <th>types</th>\n",
       "      <th>rating</th>\n",
       "      <th>user_ratings_total</th>\n",
       "    </tr>\n",
       "  </thead>\n",
       "  <tbody>\n",
       "    <tr>\n",
       "      <th>0</th>\n",
       "      <td>https://www.google.com/maps/place/?q=place_id:...</td>\n",
       "      <td></td>\n",
       "      <td>Об этих данных</td>\n",
       "      <td></td>\n",
       "      <td>NaN</td>\n",
       "      <td>None</td>\n",
       "      <td>NaN</td>\n",
       "      <td>NaN</td>\n",
       "      <td>NaN</td>\n",
       "    </tr>\n",
       "    <tr>\n",
       "      <th>1</th>\n",
       "      <td>https://www.google.com/maps/place/?q=place_id:...</td>\n",
       "      <td>Новый век, СФ</td>\n",
       "      <td>ул. Демуса, 60, Краснодар, Краснодарский край,...</td>\n",
       "      <td>Строительная компания</td>\n",
       "      <td>NaN</td>\n",
       "      <td>None</td>\n",
       "      <td>NaN</td>\n",
       "      <td>NaN</td>\n",
       "      <td>NaN</td>\n",
       "    </tr>\n",
       "    <tr>\n",
       "      <th>2</th>\n",
       "      <td>https://www.google.com/maps/place/?q=place_id:...</td>\n",
       "      <td>Магазин автоприцепов</td>\n",
       "      <td>ул. Ростовское ш., 24/1, Краснодар, Краснодарс...</td>\n",
       "      <td>Продажа прицепов</td>\n",
       "      <td>NaN</td>\n",
       "      <td>None</td>\n",
       "      <td>NaN</td>\n",
       "      <td>NaN</td>\n",
       "      <td>NaN</td>\n",
       "    </tr>\n",
       "    <tr>\n",
       "      <th>3</th>\n",
       "      <td>https://www.google.com/maps/place/?q=place_id:...</td>\n",
       "      <td>Pepe магазин детской одежды</td>\n",
       "      <td>Краснодар, Краснодарский край, 350901</td>\n",
       "      <td>Магазин одежды</td>\n",
       "      <td>NaN</td>\n",
       "      <td>None</td>\n",
       "      <td>NaN</td>\n",
       "      <td>NaN</td>\n",
       "      <td>NaN</td>\n",
       "    </tr>\n",
       "    <tr>\n",
       "      <th>4</th>\n",
       "      <td>https://www.google.com/maps/place/?q=place_id:...</td>\n",
       "      <td>Трейд Инвест</td>\n",
       "      <td>ул. Тихорецкая, 8, Краснодар, Краснодарский кр...</td>\n",
       "      <td>Оптовая продажа строительных материалов</td>\n",
       "      <td>NaN</td>\n",
       "      <td>None</td>\n",
       "      <td>NaN</td>\n",
       "      <td>NaN</td>\n",
       "      <td>NaN</td>\n",
       "    </tr>\n",
       "    <tr>\n",
       "      <th>5</th>\n",
       "      <td>https://www.google.com/maps/place/?q=place_id:...</td>\n",
       "      <td>Первый Риэлт Центр</td>\n",
       "      <td>Краснодар, Краснодарский край, 350000</td>\n",
       "      <td>Агентство недвижимости</td>\n",
       "      <td>NaN</td>\n",
       "      <td>None</td>\n",
       "      <td>NaN</td>\n",
       "      <td>NaN</td>\n",
       "      <td>NaN</td>\n",
       "    </tr>\n",
       "    <tr>\n",
       "      <th>6</th>\n",
       "      <td>https://www.google.com/maps/place/?q=place_id:...</td>\n",
       "      <td>ТРАНСПОРТ ТВ</td>\n",
       "      <td>ул. ш. Нефтяников, 18, Краснодар, Краснодарски...</td>\n",
       "      <td>Офис компании</td>\n",
       "      <td>NaN</td>\n",
       "      <td>None</td>\n",
       "      <td>NaN</td>\n",
       "      <td>NaN</td>\n",
       "      <td>NaN</td>\n",
       "    </tr>\n",
       "    <tr>\n",
       "      <th>7</th>\n",
       "      <td>https://www.google.com/maps/place/?q=place_id:...</td>\n",
       "      <td>Олимпия</td>\n",
       "      <td>ул. Крупской, 22, Краснодар, Краснодарский кра...</td>\n",
       "      <td></td>\n",
       "      <td>NaN</td>\n",
       "      <td>None</td>\n",
       "      <td>NaN</td>\n",
       "      <td>NaN</td>\n",
       "      <td>NaN</td>\n",
       "    </tr>\n",
       "    <tr>\n",
       "      <th>8</th>\n",
       "      <td>https://www.google.com/maps/place/?q=place_id:...</td>\n",
       "      <td>AWP-Group</td>\n",
       "      <td>158 - 15 Stasova Str., Краснодар, Краснодарски...</td>\n",
       "      <td></td>\n",
       "      <td>NaN</td>\n",
       "      <td>None</td>\n",
       "      <td>NaN</td>\n",
       "      <td>NaN</td>\n",
       "      <td>NaN</td>\n",
       "    </tr>\n",
       "    <tr>\n",
       "      <th>9</th>\n",
       "      <td>https://www.google.com/maps/place/?q=place_id:...</td>\n",
       "      <td>Репетиторский Центр</td>\n",
       "      <td>ул. Измаильская, 74 к 4, Краснодар, Краснодарс...</td>\n",
       "      <td>Образовательный центр</td>\n",
       "      <td>NaN</td>\n",
       "      <td>None</td>\n",
       "      <td>NaN</td>\n",
       "      <td>NaN</td>\n",
       "      <td>NaN</td>\n",
       "    </tr>\n",
       "    <tr>\n",
       "      <th>10</th>\n",
       "      <td>https://www.google.com/maps/place/?q=place_id:...</td>\n",
       "      <td>Вэлданс, студия танца и йоги</td>\n",
       "      <td>ул. 70-летия Октября, 12/3, Краснодар, Краснод...</td>\n",
       "      <td>Школа танцев</td>\n",
       "      <td>NaN</td>\n",
       "      <td>None</td>\n",
       "      <td>NaN</td>\n",
       "      <td>NaN</td>\n",
       "      <td>NaN</td>\n",
       "    </tr>\n",
       "    <tr>\n",
       "      <th>11</th>\n",
       "      <td>https://www.google.com/maps/place/?q=place_id:...</td>\n",
       "      <td>Кубаночка</td>\n",
       "      <td>ул. Нахимова, 2к1, Краснодар, Краснодарский кр...</td>\n",
       "      <td>Мясной магазин</td>\n",
       "      <td>[Загруженность в 06:00: 0%., Загруженность в 0...</td>\n",
       "      <td>None</td>\n",
       "      <td>NaN</td>\n",
       "      <td>NaN</td>\n",
       "      <td>NaN</td>\n",
       "    </tr>\n",
       "    <tr>\n",
       "      <th>12</th>\n",
       "      <td>https://www.google.com/maps/place/?q=place_id:...</td>\n",
       "      <td>Автосервис \"Барс-Авто\"</td>\n",
       "      <td>ул. Средняя, 36, Краснодар, Краснодарский край...</td>\n",
       "      <td>Услуги водителя</td>\n",
       "      <td>[Загруженность в : %., Загруженность в 06:00: ...</td>\n",
       "      <td>None</td>\n",
       "      <td>NaN</td>\n",
       "      <td>NaN</td>\n",
       "      <td>NaN</td>\n",
       "    </tr>\n",
       "  </tbody>\n",
       "</table>\n",
       "</div>"
      ],
      "text/plain": [
       "                                                  url  \\\n",
       "0   https://www.google.com/maps/place/?q=place_id:...   \n",
       "1   https://www.google.com/maps/place/?q=place_id:...   \n",
       "2   https://www.google.com/maps/place/?q=place_id:...   \n",
       "3   https://www.google.com/maps/place/?q=place_id:...   \n",
       "4   https://www.google.com/maps/place/?q=place_id:...   \n",
       "5   https://www.google.com/maps/place/?q=place_id:...   \n",
       "6   https://www.google.com/maps/place/?q=place_id:...   \n",
       "7   https://www.google.com/maps/place/?q=place_id:...   \n",
       "8   https://www.google.com/maps/place/?q=place_id:...   \n",
       "9   https://www.google.com/maps/place/?q=place_id:...   \n",
       "10  https://www.google.com/maps/place/?q=place_id:...   \n",
       "11  https://www.google.com/maps/place/?q=place_id:...   \n",
       "12  https://www.google.com/maps/place/?q=place_id:...   \n",
       "\n",
       "                           title  \\\n",
       "0                                  \n",
       "1                  Новый век, СФ   \n",
       "2           Магазин автоприцепов   \n",
       "3    Pepe магазин детской одежды   \n",
       "4                   Трейд Инвест   \n",
       "5             Первый Риэлт Центр   \n",
       "6                   ТРАНСПОРТ ТВ   \n",
       "7                        Олимпия   \n",
       "8                      AWP-Group   \n",
       "9            Репетиторский Центр   \n",
       "10  Вэлданс, студия танца и йоги   \n",
       "11                     Кубаночка   \n",
       "12        Автосервис \"Барс-Авто\"   \n",
       "\n",
       "                                              address  \\\n",
       "0                                      Об этих данных   \n",
       "1   ул. Демуса, 60, Краснодар, Краснодарский край,...   \n",
       "2   ул. Ростовское ш., 24/1, Краснодар, Краснодарс...   \n",
       "3               Краснодар, Краснодарский край, 350901   \n",
       "4   ул. Тихорецкая, 8, Краснодар, Краснодарский кр...   \n",
       "5               Краснодар, Краснодарский край, 350000   \n",
       "6   ул. ш. Нефтяников, 18, Краснодар, Краснодарски...   \n",
       "7   ул. Крупской, 22, Краснодар, Краснодарский кра...   \n",
       "8   158 - 15 Stasova Str., Краснодар, Краснодарски...   \n",
       "9   ул. Измаильская, 74 к 4, Краснодар, Краснодарс...   \n",
       "10  ул. 70-летия Октября, 12/3, Краснодар, Краснод...   \n",
       "11  ул. Нахимова, 2к1, Краснодар, Краснодарский кр...   \n",
       "12  ул. Средняя, 36, Краснодар, Краснодарский край...   \n",
       "\n",
       "                                   category  \\\n",
       "0                                             \n",
       "1                     Строительная компания   \n",
       "2                          Продажа прицепов   \n",
       "3                            Магазин одежды   \n",
       "4   Оптовая продажа строительных материалов   \n",
       "5                    Агентство недвижимости   \n",
       "6                             Офис компании   \n",
       "7                                             \n",
       "8                                             \n",
       "9                     Образовательный центр   \n",
       "10                             Школа танцев   \n",
       "11                           Мясной магазин   \n",
       "12                          Услуги водителя   \n",
       "\n",
       "                                   popular_times_bars geometry types  rating  \\\n",
       "0                                                 NaN     None   NaN     NaN   \n",
       "1                                                 NaN     None   NaN     NaN   \n",
       "2                                                 NaN     None   NaN     NaN   \n",
       "3                                                 NaN     None   NaN     NaN   \n",
       "4                                                 NaN     None   NaN     NaN   \n",
       "5                                                 NaN     None   NaN     NaN   \n",
       "6                                                 NaN     None   NaN     NaN   \n",
       "7                                                 NaN     None   NaN     NaN   \n",
       "8                                                 NaN     None   NaN     NaN   \n",
       "9                                                 NaN     None   NaN     NaN   \n",
       "10                                                NaN     None   NaN     NaN   \n",
       "11  [Загруженность в 06:00: 0%., Загруженность в 0...     None   NaN     NaN   \n",
       "12  [Загруженность в : %., Загруженность в 06:00: ...     None   NaN     NaN   \n",
       "\n",
       "    user_ratings_total  \n",
       "0                  NaN  \n",
       "1                  NaN  \n",
       "2                  NaN  \n",
       "3                  NaN  \n",
       "4                  NaN  \n",
       "5                  NaN  \n",
       "6                  NaN  \n",
       "7                  NaN  \n",
       "8                  NaN  \n",
       "9                  NaN  \n",
       "10                 NaN  \n",
       "11                 NaN  \n",
       "12                 NaN  "
      ]
     },
     "execution_count": 85,
     "metadata": {},
     "output_type": "execute_result"
    }
   ],
   "source": [
    "gdf"
   ]
  },
  {
   "cell_type": "code",
   "execution_count": 255,
   "id": "b30ae67a",
   "metadata": {},
   "outputs": [
    {
     "data": {
      "image/svg+xml": [
       "<svg xmlns=\"http://www.w3.org/2000/svg\" xmlns:xlink=\"http://www.w3.org/1999/xlink\" width=\"100.0\" height=\"100.0\" viewBox=\"38.0233893 44.1067216 2.0 2.0\" preserveAspectRatio=\"xMinYMin meet\"><g transform=\"matrix(1,0,0,-1,0,90.2134432)\"><circle cx=\"39.0233893\" cy=\"45.1067216\" r=\"0.06\" stroke=\"#555555\" stroke-width=\"0.02\" fill=\"#66cc99\" opacity=\"0.6\" /></g></svg>"
      ],
      "text/plain": [
       "<shapely.geometry.point.Point at 0x19f13c78520>"
      ]
     },
     "execution_count": 255,
     "metadata": {},
     "output_type": "execute_result"
    }
   ],
   "source": [
    "gdf.loc[0, 'geometry']"
   ]
  },
  {
   "cell_type": "code",
   "execution_count": 270,
   "id": "65e210fc",
   "metadata": {},
   "outputs": [],
   "source": [
    "places_df = pd.concat([places_df.loc[~places_df.url.isin(gdf.url)], gdf], ignore_index=True ).drop_duplicates('url')"
   ]
  },
  {
   "cell_type": "markdown",
   "id": "6b45a204",
   "metadata": {},
   "source": [
    "## Карта\n",
    "На месте пустоты - кладбище"
   ]
  },
  {
   "cell_type": "code",
   "execution_count": 136,
   "id": "4637ac93",
   "metadata": {},
   "outputs": [
    {
     "name": "stderr",
     "output_type": "stream",
     "text": [
      "C:\\Users\\yupes\\anaconda3\\envs\\python-gis\\lib\\site-packages\\geopandas\\geodataframe.py:1350: UserWarning: Geometry column does not contain geometry.\n",
      "  warnings.warn(\"Geometry column does not contain geometry.\")\n"
     ]
    }
   ],
   "source": [
    "places_df['geometry'] = places_df.geometry.astype(str)"
   ]
  },
  {
   "cell_type": "code",
   "execution_count": 137,
   "id": "ac9b2b91",
   "metadata": {},
   "outputs": [],
   "source": [
    "places_df.geometry = [shapely.wkt.loads(r['geometry']) for i, r in places_df.iterrows()]"
   ]
  },
  {
   "cell_type": "code",
   "execution_count": 294,
   "id": "c099b795",
   "metadata": {},
   "outputs": [
    {
     "data": {
      "text/plain": [
       "<AxesSubplot:>"
      ]
     },
     "execution_count": 294,
     "metadata": {},
     "output_type": "execute_result"
    },
    {
     "data": {
      "image/png": "[encoded data removed]",
      "text/plain": [
       "<Figure size 1152x1080 with 1 Axes>"
      ]
     },
     "metadata": {
      "needs_background": "light"
     },
     "output_type": "display_data"
    }
   ],
   "source": [
    "places_df.plot(figsize = (16, 15))"
   ]
  },
  {
   "cell_type": "markdown",
   "id": "231adcc0",
   "metadata": {},
   "source": [
    "## Статистика"
   ]
  },
  {
   "cell_type": "markdown",
   "id": "5dbf81a0",
   "metadata": {},
   "source": [
    "Топ-20 по отзывам"
   ]
  },
  {
   "cell_type": "code",
   "execution_count": 4,
   "id": "8ac2fa40",
   "metadata": {
    "scrolled": false
   },
   "outputs": [
    {
     "data": {
      "image/png": "[encoded data removed]",
      "text/plain": [
       "<Figure size 1152x576 with 1 Axes>"
      ]
     },
     "metadata": {
      "needs_background": "light"
     },
     "output_type": "display_data"
    }
   ],
   "source": [
    "# ax =  places_df.sort_values('user_ratings_total', ascending = False)[:20].plot(kind = 'bar', rot = 45, x = 'title', figsize = (16, 8))\n"
   ]
  },
  {
   "cell_type": "code",
   "execution_count": 5,
   "id": "b20a8b90",
   "metadata": {},
   "outputs": [
    {
     "data": {
      "text/plain": [
       "(15527, 10)"
      ]
     },
     "execution_count": 5,
     "metadata": {},
     "output_type": "execute_result"
    }
   ],
   "source": [
    "places_df.shape"
   ]
  },
  {
   "cell_type": "markdown",
   "id": "fb40ba17",
   "metadata": {},
   "source": [
    "Поиск обязательных аттракторов: \n",
    "\n",
    "Присутствуют:\n",
    "+ Парк Краснодар (Галицкого) \tБлизко к району проектирования, современный парк, - нельзя с собаками\n",
    "+ Парк Солнечный остров\tТребует ухода, есть пляж, проблема с вывозом мусора\n",
    "+ Сафари-парк\tЗоопарк на территории с солнечного острова, запущенный\n",
    "+ Парк 30-летия Победы\tВоенный музей, набережная реки Кубань\n",
    "+ Парк Рождественский\tМесто «пикников», неблагоустроенный \n",
    "+ Старая Кубань\tПляж, грязный, грязная река\n",
    "+ Сквер Дружбы\tУхоженный сквер в центре, многолюдный\n",
    "+ Ботанический сад им. профессора И. С. Косенко Ухоженный, уютный\n",
    "+ Чистяковская роща\tМного зелени, несколько запущенный \n",
    "+ Сквер им. Маршала Г.К. Жукова\tМаленький уютный сквер, напротив администрации\n",
    "- Городской сад\tИсторический парк, проблемы с аттракционом\n",
    "- Городской сад\tПарк в начале Красной улицы, нравится горожанам\n",
    "- Учебный Ботанический Сад\tИногда открыт только для экскурсий (Ботанический сад 1/ КубГУ)"
   ]
  },
  {
   "cell_type": "code",
   "execution_count": 22,
   "id": "6a14c312",
   "metadata": {
    "scrolled": true
   },
   "outputs": [
    {
     "data": {
      "text/html": [
       "<div>\n",
       "<style scoped>\n",
       "    .dataframe tbody tr th:only-of-type {\n",
       "        vertical-align: middle;\n",
       "    }\n",
       "\n",
       "    .dataframe tbody tr th {\n",
       "        vertical-align: top;\n",
       "    }\n",
       "\n",
       "    .dataframe thead th {\n",
       "        text-align: right;\n",
       "    }\n",
       "</style>\n",
       "<table border=\"1\" class=\"dataframe\">\n",
       "  <thead>\n",
       "    <tr style=\"text-align: right;\">\n",
       "      <th></th>\n",
       "      <th>url</th>\n",
       "      <th>title</th>\n",
       "      <th>address</th>\n",
       "      <th>category</th>\n",
       "      <th>popular_times_bars</th>\n",
       "      <th>geometry</th>\n",
       "      <th>types</th>\n",
       "      <th>rating</th>\n",
       "      <th>user_ratings_total</th>\n",
       "      <th>count_photo</th>\n",
       "    </tr>\n",
       "  </thead>\n",
       "  <tbody>\n",
       "    <tr>\n",
       "      <th>389</th>\n",
       "      <td>https://www.google.com/maps/place/?q=place_id:...</td>\n",
       "      <td>Совхоз \"Солнечный\" 2-е отделение</td>\n",
       "      <td>Краснодарский край, 350012</td>\n",
       "      <td>Автобусная остановка</td>\n",
       "      <td>NaN</td>\n",
       "      <td>POINT (38.90287000000001 45.088045)</td>\n",
       "      <td>['transit_station', 'point_of_interest', 'esta...</td>\n",
       "      <td>NaN</td>\n",
       "      <td>NaN</td>\n",
       "      <td>NaN</td>\n",
       "    </tr>\n",
       "    <tr>\n",
       "      <th>1441</th>\n",
       "      <td>https://www.google.com/maps/place/?q=place_id:...</td>\n",
       "      <td>Солнечный сад</td>\n",
       "      <td>ул. Новороссийская, 2а, Краснодар, Краснодарск...</td>\n",
       "      <td>Цветочный магазин</td>\n",
       "      <td>NaN</td>\n",
       "      <td>POINT (39.000688 45.022289)</td>\n",
       "      <td>['florist', 'point_of_interest', 'store', 'est...</td>\n",
       "      <td>4.7</td>\n",
       "      <td>7.0</td>\n",
       "      <td>4</td>\n",
       "    </tr>\n",
       "    <tr>\n",
       "      <th>2741</th>\n",
       "      <td>https://www.google.com/maps/place/?q=place_id:...</td>\n",
       "      <td>Солнечный остров</td>\n",
       "      <td>Краснодар, Краснодарский край, 350002</td>\n",
       "      <td>Парк развлечений</td>\n",
       "      <td>['Загруженность в 04:00: 1%.', 'Загруженность ...</td>\n",
       "      <td>POINT (39.0543808 45.0073079)</td>\n",
       "      <td>['amusement_park', 'tourist_attraction', 'poin...</td>\n",
       "      <td>4.6</td>\n",
       "      <td>7730.0</td>\n",
       "      <td>13271</td>\n",
       "    </tr>\n",
       "    <tr>\n",
       "      <th>7246</th>\n",
       "      <td>https://www.google.com/maps/place/?q=place_id:...</td>\n",
       "      <td>ЖК «Солнечный Парк»</td>\n",
       "      <td>ул. имени Симиренко, 37, Краснодар, Краснодарс...</td>\n",
       "      <td>Офис компании</td>\n",
       "      <td>NaN</td>\n",
       "      <td>POINT (38.9486478 45.07223889999999)</td>\n",
       "      <td>['point_of_interest', 'establishment']</td>\n",
       "      <td>4.1</td>\n",
       "      <td>117.0</td>\n",
       "      <td>140</td>\n",
       "    </tr>\n",
       "    <tr>\n",
       "      <th>7872</th>\n",
       "      <td>https://www.google.com/maps/place/?q=place_id:...</td>\n",
       "      <td>Детский сад № 182 Солнечный город</td>\n",
       "      <td>ул. Жлобы, 143, Краснодар, Краснодарский край,...</td>\n",
       "      <td>Детский сад</td>\n",
       "      <td>NaN</td>\n",
       "      <td>POINT (39.0326589 45.0468647)</td>\n",
       "      <td>['school', 'point_of_interest', 'establishment']</td>\n",
       "      <td>3.6</td>\n",
       "      <td>12.0</td>\n",
       "      <td>15</td>\n",
       "    </tr>\n",
       "    <tr>\n",
       "      <th>8383</th>\n",
       "      <td>https://www.google.com/maps/place/?q=place_id:...</td>\n",
       "      <td>ООО \"Научно-Техническая компания \"Солнечный це...</td>\n",
       "      <td>ул. Атарбекова, 1/1, Краснодар, Краснодарский ...</td>\n",
       "      <td>Производитель</td>\n",
       "      <td>NaN</td>\n",
       "      <td>POINT (38.9422739 45.0602295)</td>\n",
       "      <td>['point_of_interest', 'establishment']</td>\n",
       "      <td>2.9</td>\n",
       "      <td>9.0</td>\n",
       "      <td>36</td>\n",
       "    </tr>\n",
       "    <tr>\n",
       "      <th>9041</th>\n",
       "      <td>https://www.google.com/maps/place/?q=place_id:...</td>\n",
       "      <td>Краснодарский Центр Йоги Айенгара \"Солнечный\"</td>\n",
       "      <td>ул. Архитектора Ишунина, д. 8/20, Краснодар, К...</td>\n",
       "      <td>Студия йоги</td>\n",
       "      <td>NaN</td>\n",
       "      <td>POINT (38.9580084 45.0660845)</td>\n",
       "      <td>['gym', 'health', 'point_of_interest', 'establ...</td>\n",
       "      <td>4.8</td>\n",
       "      <td>4.0</td>\n",
       "      <td>4</td>\n",
       "    </tr>\n",
       "    <tr>\n",
       "      <th>10167</th>\n",
       "      <td>https://www.google.com/maps/place/?q=place_id:...</td>\n",
       "      <td>Свх Солнечный 2ое. Отд.16</td>\n",
       "      <td>Краснодар, Краснодарский край, 350053</td>\n",
       "      <td>Пивоварня</td>\n",
       "      <td>NaN</td>\n",
       "      <td>POINT (38.911658 45.08958800000001)</td>\n",
       "      <td>['food', 'point_of_interest', 'establishment']</td>\n",
       "      <td>5.0</td>\n",
       "      <td>1.0</td>\n",
       "      <td>NaN</td>\n",
       "    </tr>\n",
       "    <tr>\n",
       "      <th>10208</th>\n",
       "      <td>https://www.google.com/maps/place/?q=place_id:...</td>\n",
       "      <td>Совхоз \"Солнечный\" 2-е отделение</td>\n",
       "      <td>Краснодар, Краснодарский край, 350012</td>\n",
       "      <td>Автобусная остановка</td>\n",
       "      <td>['Загруженность в 04:00: 0%.', 'Загруженность ...</td>\n",
       "      <td>POINT (38.904421 45.089211)</td>\n",
       "      <td>['transit_station', 'point_of_interest', 'esta...</td>\n",
       "      <td>5.0</td>\n",
       "      <td>2.0</td>\n",
       "      <td>NaN</td>\n",
       "    </tr>\n",
       "    <tr>\n",
       "      <th>10770</th>\n",
       "      <td>https://www.google.com/maps/place/?q=place_id:...</td>\n",
       "      <td>Солнечный</td>\n",
       "      <td>ул. Атарбекова, 1, Краснодар, Краснодарский кр...</td>\n",
       "      <td>Аптека</td>\n",
       "      <td>NaN</td>\n",
       "      <td>POINT (38.9557398 45.060954)</td>\n",
       "      <td>['pharmacy', 'health', 'point_of_interest', 's...</td>\n",
       "      <td>NaN</td>\n",
       "      <td>NaN</td>\n",
       "      <td>NaN</td>\n",
       "    </tr>\n",
       "    <tr>\n",
       "      <th>10801</th>\n",
       "      <td>https://www.google.com/maps/place/?q=place_id:...</td>\n",
       "      <td>Солнечный</td>\n",
       "      <td>ул. Атарбекова, 41, Краснодар, Краснодарский к...</td>\n",
       "      <td>Торговый центр</td>\n",
       "      <td>['Загруженность в 06:00: 0%.', 'Загруженность ...</td>\n",
       "      <td>POINT (38.95789500000001 45.060086)</td>\n",
       "      <td>['shopping_mall', 'point_of_interest', 'establ...</td>\n",
       "      <td>4.6</td>\n",
       "      <td>9.0</td>\n",
       "      <td>NaN</td>\n",
       "    </tr>\n",
       "    <tr>\n",
       "      <th>11609</th>\n",
       "      <td>https://www.google.com/maps/place/?q=place_id:...</td>\n",
       "      <td>Солнечный берег, ТСЖ</td>\n",
       "      <td>ул. Минская, 122/2, Краснодар, Краснодарский к...</td>\n",
       "      <td>Компания ЖКХ</td>\n",
       "      <td>NaN</td>\n",
       "      <td>POINT (38.9332067 45.0387727)</td>\n",
       "      <td>['point_of_interest', 'establishment']</td>\n",
       "      <td>NaN</td>\n",
       "      <td>NaN</td>\n",
       "      <td>NaN</td>\n",
       "    </tr>\n",
       "    <tr>\n",
       "      <th>15304</th>\n",
       "      <td>https://www.google.com/maps/place/?q=place_id:...</td>\n",
       "      <td>Сквер \"Солнечный\"</td>\n",
       "      <td>ул. Совхозная, Краснодар, Краснодарский край, ...</td>\n",
       "      <td>Парк</td>\n",
       "      <td>['Загруженность в 04:00: 1%.', 'Загруженность ...</td>\n",
       "      <td>POINT (38.9481431 45.0634526)</td>\n",
       "      <td>['park', 'point_of_interest', 'establishment']</td>\n",
       "      <td>4.5</td>\n",
       "      <td>319.0</td>\n",
       "      <td>56</td>\n",
       "    </tr>\n",
       "    <tr>\n",
       "      <th>15309</th>\n",
       "      <td>https://www.google.com/maps/place/?q=place_id:...</td>\n",
       "      <td>Солнечный парк</td>\n",
       "      <td>ул. Солнечная, 17к1, Краснодар, Краснодарский ...</td>\n",
       "      <td>Парк</td>\n",
       "      <td>['Загруженность в 04:00: 1%.', 'Загруженность ...</td>\n",
       "      <td>POINT (39.0073784 45.072373)</td>\n",
       "      <td>['park', 'point_of_interest', 'establishment']</td>\n",
       "      <td>4.7</td>\n",
       "      <td>806.0</td>\n",
       "      <td>457</td>\n",
       "    </tr>\n",
       "    <tr>\n",
       "      <th>15335</th>\n",
       "      <td>https://www.google.com/maps/place/?q=place_id:...</td>\n",
       "      <td>Мост на Солнечный остров</td>\n",
       "      <td>озеро Старая Кубань, Краснодар, Краснодарский ...</td>\n",
       "      <td>Мост</td>\n",
       "      <td>['Загруженность в 04:00: 0%.', 'Загруженность ...</td>\n",
       "      <td>POINT (39.0543416 45.0116751)</td>\n",
       "      <td>['point_of_interest', 'establishment']</td>\n",
       "      <td>4.6</td>\n",
       "      <td>243.0</td>\n",
       "      <td>223</td>\n",
       "    </tr>\n",
       "  </tbody>\n",
       "</table>\n",
       "</div>"
      ],
      "text/plain": [
       "                                                     url  \\\n",
       "389    https://www.google.com/maps/place/?q=place_id:...   \n",
       "1441   https://www.google.com/maps/place/?q=place_id:...   \n",
       "2741   https://www.google.com/maps/place/?q=place_id:...   \n",
       "7246   https://www.google.com/maps/place/?q=place_id:...   \n",
       "7872   https://www.google.com/maps/place/?q=place_id:...   \n",
       "8383   https://www.google.com/maps/place/?q=place_id:...   \n",
       "9041   https://www.google.com/maps/place/?q=place_id:...   \n",
       "10167  https://www.google.com/maps/place/?q=place_id:...   \n",
       "10208  https://www.google.com/maps/place/?q=place_id:...   \n",
       "10770  https://www.google.com/maps/place/?q=place_id:...   \n",
       "10801  https://www.google.com/maps/place/?q=place_id:...   \n",
       "11609  https://www.google.com/maps/place/?q=place_id:...   \n",
       "15304  https://www.google.com/maps/place/?q=place_id:...   \n",
       "15309  https://www.google.com/maps/place/?q=place_id:...   \n",
       "15335  https://www.google.com/maps/place/?q=place_id:...   \n",
       "\n",
       "                                                   title  \\\n",
       "389                     Совхоз \"Солнечный\" 2-е отделение   \n",
       "1441                                       Солнечный сад   \n",
       "2741                                    Солнечный остров   \n",
       "7246                                 ЖК «Солнечный Парк»   \n",
       "7872                   Детский сад № 182 Солнечный город   \n",
       "8383   ООО \"Научно-Техническая компания \"Солнечный це...   \n",
       "9041       Краснодарский Центр Йоги Айенгара \"Солнечный\"   \n",
       "10167                          Свх Солнечный 2ое. Отд.16   \n",
       "10208                   Совхоз \"Солнечный\" 2-е отделение   \n",
       "10770                                          Солнечный   \n",
       "10801                                          Солнечный   \n",
       "11609                               Солнечный берег, ТСЖ   \n",
       "15304                                  Сквер \"Солнечный\"   \n",
       "15309                                     Солнечный парк   \n",
       "15335                           Мост на Солнечный остров   \n",
       "\n",
       "                                                 address  \\\n",
       "389                           Краснодарский край, 350012   \n",
       "1441   ул. Новороссийская, 2а, Краснодар, Краснодарск...   \n",
       "2741               Краснодар, Краснодарский край, 350002   \n",
       "7246   ул. имени Симиренко, 37, Краснодар, Краснодарс...   \n",
       "7872   ул. Жлобы, 143, Краснодар, Краснодарский край,...   \n",
       "8383   ул. Атарбекова, 1/1, Краснодар, Краснодарский ...   \n",
       "9041   ул. Архитектора Ишунина, д. 8/20, Краснодар, К...   \n",
       "10167              Краснодар, Краснодарский край, 350053   \n",
       "10208              Краснодар, Краснодарский край, 350012   \n",
       "10770  ул. Атарбекова, 1, Краснодар, Краснодарский кр...   \n",
       "10801  ул. Атарбекова, 41, Краснодар, Краснодарский к...   \n",
       "11609  ул. Минская, 122/2, Краснодар, Краснодарский к...   \n",
       "15304  ул. Совхозная, Краснодар, Краснодарский край, ...   \n",
       "15309  ул. Солнечная, 17к1, Краснодар, Краснодарский ...   \n",
       "15335  озеро Старая Кубань, Краснодар, Краснодарский ...   \n",
       "\n",
       "                   category  \\\n",
       "389    Автобусная остановка   \n",
       "1441      Цветочный магазин   \n",
       "2741       Парк развлечений   \n",
       "7246          Офис компании   \n",
       "7872            Детский сад   \n",
       "8383          Производитель   \n",
       "9041            Студия йоги   \n",
       "10167             Пивоварня   \n",
       "10208  Автобусная остановка   \n",
       "10770                Аптека   \n",
       "10801        Торговый центр   \n",
       "11609          Компания ЖКХ   \n",
       "15304                  Парк   \n",
       "15309                  Парк   \n",
       "15335                  Мост   \n",
       "\n",
       "                                      popular_times_bars  \\\n",
       "389                                                  NaN   \n",
       "1441                                                 NaN   \n",
       "2741   ['Загруженность в 04:00: 1%.', 'Загруженность ...   \n",
       "7246                                                 NaN   \n",
       "7872                                                 NaN   \n",
       "8383                                                 NaN   \n",
       "9041                                                 NaN   \n",
       "10167                                                NaN   \n",
       "10208  ['Загруженность в 04:00: 0%.', 'Загруженность ...   \n",
       "10770                                                NaN   \n",
       "10801  ['Загруженность в 06:00: 0%.', 'Загруженность ...   \n",
       "11609                                                NaN   \n",
       "15304  ['Загруженность в 04:00: 1%.', 'Загруженность ...   \n",
       "15309  ['Загруженность в 04:00: 1%.', 'Загруженность ...   \n",
       "15335  ['Загруженность в 04:00: 0%.', 'Загруженность ...   \n",
       "\n",
       "                                   geometry  \\\n",
       "389     POINT (38.90287000000001 45.088045)   \n",
       "1441            POINT (39.000688 45.022289)   \n",
       "2741          POINT (39.0543808 45.0073079)   \n",
       "7246   POINT (38.9486478 45.07223889999999)   \n",
       "7872          POINT (39.0326589 45.0468647)   \n",
       "8383          POINT (38.9422739 45.0602295)   \n",
       "9041          POINT (38.9580084 45.0660845)   \n",
       "10167   POINT (38.911658 45.08958800000001)   \n",
       "10208           POINT (38.904421 45.089211)   \n",
       "10770          POINT (38.9557398 45.060954)   \n",
       "10801   POINT (38.95789500000001 45.060086)   \n",
       "11609         POINT (38.9332067 45.0387727)   \n",
       "15304         POINT (38.9481431 45.0634526)   \n",
       "15309          POINT (39.0073784 45.072373)   \n",
       "15335         POINT (39.0543416 45.0116751)   \n",
       "\n",
       "                                                   types  rating  \\\n",
       "389    ['transit_station', 'point_of_interest', 'esta...     NaN   \n",
       "1441   ['florist', 'point_of_interest', 'store', 'est...     4.7   \n",
       "2741   ['amusement_park', 'tourist_attraction', 'poin...     4.6   \n",
       "7246              ['point_of_interest', 'establishment']     4.1   \n",
       "7872    ['school', 'point_of_interest', 'establishment']     3.6   \n",
       "8383              ['point_of_interest', 'establishment']     2.9   \n",
       "9041   ['gym', 'health', 'point_of_interest', 'establ...     4.8   \n",
       "10167     ['food', 'point_of_interest', 'establishment']     5.0   \n",
       "10208  ['transit_station', 'point_of_interest', 'esta...     5.0   \n",
       "10770  ['pharmacy', 'health', 'point_of_interest', 's...     NaN   \n",
       "10801  ['shopping_mall', 'point_of_interest', 'establ...     4.6   \n",
       "11609             ['point_of_interest', 'establishment']     NaN   \n",
       "15304     ['park', 'point_of_interest', 'establishment']     4.5   \n",
       "15309     ['park', 'point_of_interest', 'establishment']     4.7   \n",
       "15335             ['point_of_interest', 'establishment']     4.6   \n",
       "\n",
       "       user_ratings_total count_photo  \n",
       "389                   NaN         NaN  \n",
       "1441                  7.0           4  \n",
       "2741               7730.0       13271  \n",
       "7246                117.0         140  \n",
       "7872                 12.0          15  \n",
       "8383                  9.0          36  \n",
       "9041                  4.0           4  \n",
       "10167                 1.0         NaN  \n",
       "10208                 2.0         NaN  \n",
       "10770                 NaN         NaN  \n",
       "10801                 9.0         NaN  \n",
       "11609                 NaN         NaN  \n",
       "15304               319.0          56  \n",
       "15309               806.0         457  \n",
       "15335               243.0         223  "
      ]
     },
     "execution_count": 22,
     "metadata": {},
     "output_type": "execute_result"
    }
   ],
   "source": [
    "places_df.loc[places_df.title.str.contains('Солнечный')]"
   ]
  },
  {
   "cell_type": "code",
   "execution_count": 214,
   "id": "6e155027",
   "metadata": {},
   "outputs": [],
   "source": []
  },
  {
   "cell_type": "code",
   "execution_count": 215,
   "id": "c3f01ef8",
   "metadata": {},
   "outputs": [],
   "source": []
  }
 ],
 "metadata": {
  "kernelspec": {
   "display_name": "Python 3 (ipykernel)",
   "language": "python",
   "name": "python3"
  },
  "language_info": {
   "codemirror_mode": {
    "name": "ipython",
    "version": 3
   },
   "file_extension": ".py",
   "mimetype": "text/x-python",
   "name": "python",
   "nbconvert_exporter": "python",
   "pygments_lexer": "ipython3",
   "version": "3.9.7"
  }
 },
 "nbformat": 4,
 "nbformat_minor": 5
}
