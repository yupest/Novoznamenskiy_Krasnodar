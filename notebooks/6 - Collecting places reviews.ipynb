{
 "cells": [
  {
   "cell_type": "code",
   "execution_count": 1,
   "id": "30b7fbc5",
   "metadata": {},
   "outputs": [],
   "source": [
    "import pandas as pd\n",
    "import requests\n",
    "from multiprocessing.dummy import Pool\n",
    "from multiprocessing import cpu_count, freeze_support\n",
    "import shapely\n",
    "from shapely import geometry\n",
    "import re\n",
    "import time\n",
    "from selenium import webdriver\n",
    "from selenium.webdriver.common.action_chains import ActionChains"
   ]
  },
  {
   "cell_type": "code",
   "execution_count": 2,
   "id": "9293382a",
   "metadata": {
    "code_folding": [
     0
    ]
   },
   "outputs": [],
   "source": [
    "#логер\n",
    "def log_progress(sequence, every=None, size=None):\n",
    "    from ipywidgets import IntProgress, HTML, VBox\n",
    "    from IPython.display import display\n",
    "    \n",
    "    is_iterator = False\n",
    "    if size is None:\n",
    "        try:\n",
    "            size = len(sequence)\n",
    "        except TypeError:\n",
    "            is_iterator = True\n",
    "    if size is not None:\n",
    "        if every is None:\n",
    "            if size <= 200:\n",
    "                every = 1\n",
    "            else:\n",
    "                every = size / 200     # every 0.5%\n",
    "    else:\n",
    "        assert every is not None, 'sequence is iterator, set every'\n",
    "\n",
    "    if is_iterator:\n",
    "        progress = IntProgress(min=0, max=1, value=1)\n",
    "        progress.bar_style = 'info'\n",
    "    else:\n",
    "        progress = IntProgress(min=0, max=size, value=0)\n",
    "    label = HTML()\n",
    "    box = VBox(children=[label, progress])\n",
    "    display(box)\n",
    "    \n",
    "    index = 0\n",
    "    try:\n",
    "        for index, record in enumerate(sequence, 1):\n",
    "            \n",
    "            if index == 1 or index % every == 0:\n",
    "                if is_iterator:\n",
    "                    label.value = '{index} / ?'.format(index=index)\n",
    "                else:\n",
    "                    progress.value = index\n",
    "                    label.value = u'{index} / {size}'.format(\n",
    "                        index=index,\n",
    "                        size=size\n",
    "                    )\n",
    "            yield record\n",
    "    except:\n",
    "        progress.bar_style = 'danger'\n",
    "        raise\n",
    "    else:\n",
    "        progress.bar_style = 'success'\n",
    "        progress.value = index\n",
    "        label.value = str(index or '?')"
   ]
  },
  {
   "cell_type": "code",
   "execution_count": 29,
   "id": "1bf93cd6",
   "metadata": {
    "code_folding": [
     11
    ]
   },
   "outputs": [],
   "source": [
    "#comments\n",
    "def get_comment_element(url, driver, count_review):\n",
    "    driver.get(url)\n",
    "    time.sleep(5)\n",
    "    try:\n",
    "        item = driver.find_element_by_css_selector('button[jsaction=\"pane.reviewChart.moreReviews\"]')\n",
    "        driver.execute_script(\"arguments[0].click();\", item)\n",
    "        return get_all_comments_place(url, driver, count_review)\n",
    "    except:\n",
    "        return \n",
    "    \n",
    "def scroll(driver, path, count):\n",
    "    items = []\n",
    "    flag = True\n",
    "    try:\n",
    "        item = driver.find_element_by_xpath(\"//div[@class = 'siAUzd-neVct section-scrollbox cYB2Ge-oHo7ed cYB2Ge-ti6hGc']\")\n",
    "        last_height = driver.execute_script(\"return arguments[0].scrollHeight\", item)\n",
    "    except:\n",
    "        flag = False\n",
    "\n",
    "\n",
    "    while flag:\n",
    "#         try:\n",
    "#             # Scroll down to bottom\n",
    "#             driver.execute_script(\"arguments[0].scrollTo(0, arguments[0].scrollHeight)\", item)\n",
    "#             new_height = driver.execute_script(\"return arguments[0].scrollHeight\", item)\n",
    "#         except:\n",
    "#             new_height = last_height\n",
    "#             pass\n",
    "        new_height = last_height\n",
    "        # Wait to load page\n",
    "        start_time = time.time()\n",
    "        while new_height == last_height:\n",
    "            try:\n",
    "                driver.execute_script(\"arguments[0].scrollTo(0, arguments[0].scrollHeight)\", item)\n",
    "                item = driver.find_element_by_xpath(\"//div[@class = 'siAUzd-neVct section-scrollbox cYB2Ge-oHo7ed cYB2Ge-ti6hGc']\")\n",
    "                # Calculate new scroll height and compare with last scroll height\n",
    "                new_height = driver.execute_script(\"return arguments[0].scrollHeight\", item)          \n",
    "                items = driver.find_elements_by_xpath(path)\n",
    "                if (len(items) >= count) or (time.time()-start_time)>35:\n",
    "                    flag = False\n",
    "                    break\n",
    "            except Exception as e:\n",
    "                print('3 '+e)\n",
    "                flag = False\n",
    "                break\n",
    "        last_height = new_height\n",
    "\n",
    "    items = driver.find_elements_by_xpath(path) \n",
    "    return items\n",
    "    \n",
    "def get_all_comments_place(place_url, driver, count_review):\n",
    "    \n",
    "    time.sleep(6)\n",
    "    \n",
    "    reviews_obj_list = []\n",
    "\n",
    "    reviews = scroll(driver, '//div[@class=\"ODSEW-ShBeI NIyLF-haAclf gm2-body-2\"]', count_review)\n",
    "    \n",
    "    for review in log_progress(reviews, 1):\n",
    "\n",
    "#         нажать еще\n",
    "        try:\n",
    "            btn = review.find_element_by_xpath(\"//jsl /button\")\n",
    "            driver.execute_script(\"arguments[0].click();\", btn)\n",
    "        except:\n",
    "            pass\n",
    "        \n",
    "        id_review = ''\n",
    "        try:    \n",
    "            id_review = review.get_attribute('data-review-id')\n",
    "        except:\n",
    "            pass\n",
    "        \n",
    "        photos = []\n",
    "        try:\n",
    "            p = review.find_elements_by_class_name('ODSEW-ShBeI-xJzy8c')\n",
    "            if p[-1].get_attribute('aria-label')[0]=='+':\n",
    "                driver.execute_script(\"arguments[0].click();\", p[-1])\n",
    "                time.sleep(1)\n",
    "                p = review.find_elements_by_class_name('ODSEW-ShBeI-xJzy8c')\n",
    "            photos = [re.search(r'\\\"https://\\w.*\\\"', i.get_attribute('style')).group(0).replace('\"', '') for i in p]\n",
    "        except:\n",
    "            pass\n",
    "\n",
    "        rating = \"\"\n",
    "        try:\n",
    "            rating = int(review.find_element_by_class_name(\"ODSEW-ShBeI-H1e3jb\").get_attribute('aria-label')[1])\n",
    "        except:\n",
    "            pass\n",
    "\n",
    "        pub_date_text = \"\"\n",
    "        try:    \n",
    "            pub_date_text = review.find_element_by_class_name(\"ODSEW-ShBeI-RgZmSc-date\").text\n",
    "        except:\n",
    "            pass\n",
    "\n",
    "        \n",
    "        reviewer_level = ''\n",
    "        reviewer_counts = 0\n",
    "        reviewer_page = \"\"\n",
    "        try:\n",
    "            reviewer = review.find_element_by_class_name(\"ODSEW-ShBeI-tXxcle-SfQLQb-menu\")\n",
    "            reviewer_page = reviewer.find_element_by_tag_name('a').get_attribute('href')\n",
    "            level_and_counts = reviewer.text.replace('\\n', '·').split('·')[1:]\n",
    "            reviewer_level = level_and_counts[0].strip()\n",
    "            reviewer_counts = level_and_counts[1].strip().split()[0]\n",
    "        except:\n",
    "            pass\n",
    "\n",
    "        text = \"\"\n",
    "        try:\n",
    "            text = review.find_element_by_class_name(\"ODSEW-ShBeI-text\").text\n",
    "        except:\n",
    "            pass   \n",
    "        \n",
    "        count_supports = 0\n",
    "        try:\n",
    "            count_supports = int(review.find_element_by_class_name(\"ODSEW-ShBeI-hWJfub-yHKmmc-NnAfwf\").text)\n",
    "        except:\n",
    "            pass \n",
    "\n",
    "        obj = {\n",
    "                'url': place_url,\n",
    "                'id_review': id_review,\n",
    "                'reviewer_page': reviewer_page,\n",
    "                'reviewer_level': reviewer_level,\n",
    "                'reviewer_counts': reviewer_counts,\n",
    "                'rating': rating,\n",
    "                'likes':count_supports,\n",
    "                'date': pub_date_text,\n",
    "                'text':text,\n",
    "                'photos': photos\n",
    "        }\n",
    "\n",
    "        reviews_obj_list.append(obj)\n",
    "    \n",
    "    return reviews_obj_list"
   ]
  },
  {
   "cell_type": "code",
   "execution_count": 5,
   "id": "4cdca6a9",
   "metadata": {},
   "outputs": [],
   "source": [
    "places_df = pd.read_csv('../data/places_GP.csv')\n",
    "comments_df = pd.read_csv('../data/comments.csv')"
   ]
  },
  {
   "cell_type": "code",
   "execution_count": 22,
   "id": "867084f3",
   "metadata": {
    "collapsed": true
   },
   "outputs": [
    {
     "data": {
      "text/html": [
       "<div>\n",
       "<style scoped>\n",
       "    .dataframe tbody tr th:only-of-type {\n",
       "        vertical-align: middle;\n",
       "    }\n",
       "\n",
       "    .dataframe tbody tr th {\n",
       "        vertical-align: top;\n",
       "    }\n",
       "\n",
       "    .dataframe thead th {\n",
       "        text-align: right;\n",
       "    }\n",
       "</style>\n",
       "<table border=\"1\" class=\"dataframe\">\n",
       "  <thead>\n",
       "    <tr style=\"text-align: right;\">\n",
       "      <th></th>\n",
       "      <th>url</th>\n",
       "      <th>title</th>\n",
       "      <th>address</th>\n",
       "      <th>type</th>\n",
       "      <th>popular_times_bars</th>\n",
       "      <th>geometry</th>\n",
       "      <th>types</th>\n",
       "      <th>rating</th>\n",
       "      <th>count_review</th>\n",
       "      <th>count_photo</th>\n",
       "      <th>category_2</th>\n",
       "      <th>category</th>\n",
       "      <th>normalized_rating</th>\n",
       "      <th>rating_by_category</th>\n",
       "    </tr>\n",
       "  </thead>\n",
       "  <tbody>\n",
       "    <tr>\n",
       "      <th>0</th>\n",
       "      <td>https://www.google.com/maps/place/?q=place_id:...</td>\n",
       "      <td>Новый век, СФ</td>\n",
       "      <td>ул. Демуса, 60, Краснодар, Краснодарский край,...</td>\n",
       "      <td>Строительная компания</td>\n",
       "      <td>NaN</td>\n",
       "      <td>POINT (39.09852739999999 45.0494082)</td>\n",
       "      <td>['general_contractor', 'point_of_interest', 'e...</td>\n",
       "      <td>5.0</td>\n",
       "      <td>2.0</td>\n",
       "      <td>3.0</td>\n",
       "      <td>NaN</td>\n",
       "      <td>NaN</td>\n",
       "      <td>1.000106</td>\n",
       "      <td>0.000000</td>\n",
       "    </tr>\n",
       "    <tr>\n",
       "      <th>1</th>\n",
       "      <td>https://www.google.com/maps/place/?q=place_id:...</td>\n",
       "      <td>Магазин автоприцепов</td>\n",
       "      <td>ул. Ростовское ш., 24/1, Краснодар, Краснодарс...</td>\n",
       "      <td>Продажа прицепов</td>\n",
       "      <td>NaN</td>\n",
       "      <td>POINT (38.9911055 45.08962769999999)</td>\n",
       "      <td>['point_of_interest', 'store', 'establishment']</td>\n",
       "      <td>4.5</td>\n",
       "      <td>2.0</td>\n",
       "      <td>6.0</td>\n",
       "      <td>Магазин</td>\n",
       "      <td>Магазин</td>\n",
       "      <td>0.900156</td>\n",
       "      <td>0.900347</td>\n",
       "    </tr>\n",
       "    <tr>\n",
       "      <th>6</th>\n",
       "      <td>https://www.google.com/maps/place/?q=place_id:...</td>\n",
       "      <td>Олимпия</td>\n",
       "      <td>ул. Крупской, 22, Краснодар, Краснодарский кра...</td>\n",
       "      <td>NaN</td>\n",
       "      <td>NaN</td>\n",
       "      <td>POINT (39.1108766 45.0162226)</td>\n",
       "      <td>['lodging', 'point_of_interest', 'establishment']</td>\n",
       "      <td>4.1</td>\n",
       "      <td>103.0</td>\n",
       "      <td>56.0</td>\n",
       "      <td>Жилье</td>\n",
       "      <td>Услуга</td>\n",
       "      <td>0.823806</td>\n",
       "      <td>0.901502</td>\n",
       "    </tr>\n",
       "    <tr>\n",
       "      <th>8</th>\n",
       "      <td>https://www.google.com/maps/place/?q=place_id:...</td>\n",
       "      <td>Репетиторский Центр</td>\n",
       "      <td>ул. Измаильская, 74 к 4, Краснодар, Краснодарс...</td>\n",
       "      <td>Образовательный центр</td>\n",
       "      <td>NaN</td>\n",
       "      <td>POINT (39.0456162 45.11374360000001)</td>\n",
       "      <td>['point_of_interest', 'establishment']</td>\n",
       "      <td>5.0</td>\n",
       "      <td>4.0</td>\n",
       "      <td>14.0</td>\n",
       "      <td>NaN</td>\n",
       "      <td>NaN</td>\n",
       "      <td>1.000344</td>\n",
       "      <td>0.000000</td>\n",
       "    </tr>\n",
       "    <tr>\n",
       "      <th>9</th>\n",
       "      <td>https://www.google.com/maps/place/?q=place_id:...</td>\n",
       "      <td>Вэлданс, студия танца и йоги</td>\n",
       "      <td>ул. 70-летия Октября, 12/3, Краснодар, Краснод...</td>\n",
       "      <td>Школа танцев</td>\n",
       "      <td>NaN</td>\n",
       "      <td>POINT (38.9117982 45.0379148)</td>\n",
       "      <td>['point_of_interest', 'establishment']</td>\n",
       "      <td>5.0</td>\n",
       "      <td>1.0</td>\n",
       "      <td>NaN</td>\n",
       "      <td>NaN</td>\n",
       "      <td>NaN</td>\n",
       "      <td>1.000028</td>\n",
       "      <td>0.000000</td>\n",
       "    </tr>\n",
       "    <tr>\n",
       "      <th>...</th>\n",
       "      <td>...</td>\n",
       "      <td>...</td>\n",
       "      <td>...</td>\n",
       "      <td>...</td>\n",
       "      <td>...</td>\n",
       "      <td>...</td>\n",
       "      <td>...</td>\n",
       "      <td>...</td>\n",
       "      <td>...</td>\n",
       "      <td>...</td>\n",
       "      <td>...</td>\n",
       "      <td>...</td>\n",
       "      <td>...</td>\n",
       "      <td>...</td>\n",
       "    </tr>\n",
       "    <tr>\n",
       "      <th>15520</th>\n",
       "      <td>https://www.google.com/maps/place/?q=place_id:...</td>\n",
       "      <td>Мадьяр-Гриль</td>\n",
       "      <td>ул. Дзержинского, 100, Краснодар, Краснодарски...</td>\n",
       "      <td>Ресторан</td>\n",
       "      <td>['Загруженность в 06:00: 0%.', 'Загруженность ...</td>\n",
       "      <td>POINT (38.9831636 45.1007007)</td>\n",
       "      <td>['restaurant', 'bar', 'food', 'point_of_intere...</td>\n",
       "      <td>4.6</td>\n",
       "      <td>170.0</td>\n",
       "      <td>32.0</td>\n",
       "      <td>Общепит</td>\n",
       "      <td>Общепит</td>\n",
       "      <td>0.925277</td>\n",
       "      <td>0.976035</td>\n",
       "    </tr>\n",
       "    <tr>\n",
       "      <th>15521</th>\n",
       "      <td>https://www.google.com/maps/place/?q=place_id:...</td>\n",
       "      <td>DNS</td>\n",
       "      <td>ул. Дзержинского, 100, Краснодар, Краснодарски...</td>\n",
       "      <td>Магазин электроники</td>\n",
       "      <td>['Загруженность в 06:00: 0%.', 'Загруженность ...</td>\n",
       "      <td>POINT (38.983847 45.10220899999999)</td>\n",
       "      <td>['electronics_store', 'home_goods_store', 'poi...</td>\n",
       "      <td>4.1</td>\n",
       "      <td>71.0</td>\n",
       "      <td>19.0</td>\n",
       "      <td>Магазин</td>\n",
       "      <td>Магазин</td>\n",
       "      <td>0.822298</td>\n",
       "      <td>0.823450</td>\n",
       "    </tr>\n",
       "    <tr>\n",
       "      <th>15522</th>\n",
       "      <td>https://www.google.com/maps/place/?q=place_id:...</td>\n",
       "      <td>Ригла, ООО, сеть аптек</td>\n",
       "      <td>ул. Кубанская набережная, 25А, Краснодар, Крас...</td>\n",
       "      <td>Аптека</td>\n",
       "      <td>['Загруженность в 04:00: 0%.', 'Загруженность ...</td>\n",
       "      <td>POINT (38.9594357 45.0219355)</td>\n",
       "      <td>['pharmacy', 'health', 'point_of_interest', 's...</td>\n",
       "      <td>2.3</td>\n",
       "      <td>9.0</td>\n",
       "      <td>4.0</td>\n",
       "      <td>Магазин</td>\n",
       "      <td>Магазин</td>\n",
       "      <td>0.460318</td>\n",
       "      <td>0.460510</td>\n",
       "    </tr>\n",
       "    <tr>\n",
       "      <th>15523</th>\n",
       "      <td>https://www.google.com/maps/place/?q=place_id:...</td>\n",
       "      <td>Патрик &amp; Мари, Сеть кулинарий</td>\n",
       "      <td>ул. Кубанская набережная, 35, Краснодар, Красн...</td>\n",
       "      <td>Кафе-кондитерская</td>\n",
       "      <td>['Загруженность в 04:00: 0%.', 'Загруженность ...</td>\n",
       "      <td>POINT (38.9594648 45.0246223)</td>\n",
       "      <td>['meal_delivery', 'bakery', 'food', 'point_of_...</td>\n",
       "      <td>4.5</td>\n",
       "      <td>225.0</td>\n",
       "      <td>188.0</td>\n",
       "      <td>Общепит</td>\n",
       "      <td>Общепит</td>\n",
       "      <td>0.909406</td>\n",
       "      <td>0.993235</td>\n",
       "    </tr>\n",
       "    <tr>\n",
       "      <th>15524</th>\n",
       "      <td>https://www.google.com/maps/place/?q=place_id:...</td>\n",
       "      <td>Kabania</td>\n",
       "      <td>ул. Кубанская набережная, 39/1, Краснодар, Кра...</td>\n",
       "      <td>Ресторан</td>\n",
       "      <td>['Загруженность в 06:00: 0%.', 'Загруженность ...</td>\n",
       "      <td>POINT (38.9594572 45.027444)</td>\n",
       "      <td>['restaurant', 'food', 'point_of_interest', 'e...</td>\n",
       "      <td>4.3</td>\n",
       "      <td>249.0</td>\n",
       "      <td>55.0</td>\n",
       "      <td>Общепит</td>\n",
       "      <td>Общепит</td>\n",
       "      <td>0.867864</td>\n",
       "      <td>0.943140</td>\n",
       "    </tr>\n",
       "  </tbody>\n",
       "</table>\n",
       "<p>8587 rows × 14 columns</p>\n",
       "</div>"
      ],
      "text/plain": [
       "                                                     url  \\\n",
       "0      https://www.google.com/maps/place/?q=place_id:...   \n",
       "1      https://www.google.com/maps/place/?q=place_id:...   \n",
       "6      https://www.google.com/maps/place/?q=place_id:...   \n",
       "8      https://www.google.com/maps/place/?q=place_id:...   \n",
       "9      https://www.google.com/maps/place/?q=place_id:...   \n",
       "...                                                  ...   \n",
       "15520  https://www.google.com/maps/place/?q=place_id:...   \n",
       "15521  https://www.google.com/maps/place/?q=place_id:...   \n",
       "15522  https://www.google.com/maps/place/?q=place_id:...   \n",
       "15523  https://www.google.com/maps/place/?q=place_id:...   \n",
       "15524  https://www.google.com/maps/place/?q=place_id:...   \n",
       "\n",
       "                               title  \\\n",
       "0                      Новый век, СФ   \n",
       "1               Магазин автоприцепов   \n",
       "6                            Олимпия   \n",
       "8                Репетиторский Центр   \n",
       "9       Вэлданс, студия танца и йоги   \n",
       "...                              ...   \n",
       "15520                   Мадьяр-Гриль   \n",
       "15521                            DNS   \n",
       "15522         Ригла, ООО, сеть аптек   \n",
       "15523  Патрик & Мари, Сеть кулинарий   \n",
       "15524                        Kabania   \n",
       "\n",
       "                                                 address  \\\n",
       "0      ул. Демуса, 60, Краснодар, Краснодарский край,...   \n",
       "1      ул. Ростовское ш., 24/1, Краснодар, Краснодарс...   \n",
       "6      ул. Крупской, 22, Краснодар, Краснодарский кра...   \n",
       "8      ул. Измаильская, 74 к 4, Краснодар, Краснодарс...   \n",
       "9      ул. 70-летия Октября, 12/3, Краснодар, Краснод...   \n",
       "...                                                  ...   \n",
       "15520  ул. Дзержинского, 100, Краснодар, Краснодарски...   \n",
       "15521  ул. Дзержинского, 100, Краснодар, Краснодарски...   \n",
       "15522  ул. Кубанская набережная, 25А, Краснодар, Крас...   \n",
       "15523  ул. Кубанская набережная, 35, Краснодар, Красн...   \n",
       "15524  ул. Кубанская набережная, 39/1, Краснодар, Кра...   \n",
       "\n",
       "                        type  \\\n",
       "0      Строительная компания   \n",
       "1           Продажа прицепов   \n",
       "6                        NaN   \n",
       "8      Образовательный центр   \n",
       "9               Школа танцев   \n",
       "...                      ...   \n",
       "15520               Ресторан   \n",
       "15521    Магазин электроники   \n",
       "15522                 Аптека   \n",
       "15523      Кафе-кондитерская   \n",
       "15524               Ресторан   \n",
       "\n",
       "                                      popular_times_bars  \\\n",
       "0                                                    NaN   \n",
       "1                                                    NaN   \n",
       "6                                                    NaN   \n",
       "8                                                    NaN   \n",
       "9                                                    NaN   \n",
       "...                                                  ...   \n",
       "15520  ['Загруженность в 06:00: 0%.', 'Загруженность ...   \n",
       "15521  ['Загруженность в 06:00: 0%.', 'Загруженность ...   \n",
       "15522  ['Загруженность в 04:00: 0%.', 'Загруженность ...   \n",
       "15523  ['Загруженность в 04:00: 0%.', 'Загруженность ...   \n",
       "15524  ['Загруженность в 06:00: 0%.', 'Загруженность ...   \n",
       "\n",
       "                                   geometry  \\\n",
       "0      POINT (39.09852739999999 45.0494082)   \n",
       "1      POINT (38.9911055 45.08962769999999)   \n",
       "6             POINT (39.1108766 45.0162226)   \n",
       "8      POINT (39.0456162 45.11374360000001)   \n",
       "9             POINT (38.9117982 45.0379148)   \n",
       "...                                     ...   \n",
       "15520         POINT (38.9831636 45.1007007)   \n",
       "15521   POINT (38.983847 45.10220899999999)   \n",
       "15522         POINT (38.9594357 45.0219355)   \n",
       "15523         POINT (38.9594648 45.0246223)   \n",
       "15524          POINT (38.9594572 45.027444)   \n",
       "\n",
       "                                                   types  rating  \\\n",
       "0      ['general_contractor', 'point_of_interest', 'e...     5.0   \n",
       "1        ['point_of_interest', 'store', 'establishment']     4.5   \n",
       "6      ['lodging', 'point_of_interest', 'establishment']     4.1   \n",
       "8                 ['point_of_interest', 'establishment']     5.0   \n",
       "9                 ['point_of_interest', 'establishment']     5.0   \n",
       "...                                                  ...     ...   \n",
       "15520  ['restaurant', 'bar', 'food', 'point_of_intere...     4.6   \n",
       "15521  ['electronics_store', 'home_goods_store', 'poi...     4.1   \n",
       "15522  ['pharmacy', 'health', 'point_of_interest', 's...     2.3   \n",
       "15523  ['meal_delivery', 'bakery', 'food', 'point_of_...     4.5   \n",
       "15524  ['restaurant', 'food', 'point_of_interest', 'e...     4.3   \n",
       "\n",
       "       count_review  count_photo category_2 category  normalized_rating  \\\n",
       "0               2.0          3.0        NaN      NaN           1.000106   \n",
       "1               2.0          6.0    Магазин  Магазин           0.900156   \n",
       "6             103.0         56.0      Жилье   Услуга           0.823806   \n",
       "8               4.0         14.0        NaN      NaN           1.000344   \n",
       "9               1.0          NaN        NaN      NaN           1.000028   \n",
       "...             ...          ...        ...      ...                ...   \n",
       "15520         170.0         32.0    Общепит  Общепит           0.925277   \n",
       "15521          71.0         19.0    Магазин  Магазин           0.822298   \n",
       "15522           9.0          4.0    Магазин  Магазин           0.460318   \n",
       "15523         225.0        188.0    Общепит  Общепит           0.909406   \n",
       "15524         249.0         55.0    Общепит  Общепит           0.867864   \n",
       "\n",
       "       rating_by_category  \n",
       "0                0.000000  \n",
       "1                0.900347  \n",
       "6                0.901502  \n",
       "8                0.000000  \n",
       "9                0.000000  \n",
       "...                   ...  \n",
       "15520            0.976035  \n",
       "15521            0.823450  \n",
       "15522            0.460510  \n",
       "15523            0.993235  \n",
       "15524            0.943140  \n",
       "\n",
       "[8587 rows x 14 columns]"
      ]
     },
     "execution_count": 22,
     "metadata": {},
     "output_type": "execute_result"
    }
   ],
   "source": [
    "temp_df = comments_df.groupby('url').count()['text'].reset_index()\n",
    "comments_df = comments_df.loc[comments_df.url.isin(temp_df.loc[temp_df.text>8, 'url'])]\n",
    "places_df.loc[(~places_df.count_review.isna()) & ~places_df.url.isin(comments_df.url)]"
   ]
  },
  {
   "cell_type": "code",
   "execution_count": 23,
   "id": "86f3fa6d",
   "metadata": {},
   "outputs": [],
   "source": [
    "d = {0:[],1:[],2:[],3:[],4:[],5:[],6:[]}\n",
    "for i, r in places_df.loc[(~places_df.count_review.isna()) & ~places_df.url.isin(comments_df.url)].sort_values('count_review', ascending = False, ignore_index=True).iterrows():\n",
    "    d[i%7].append((r['url'], r['count_review']))"
   ]
  },
  {
   "cell_type": "code",
   "execution_count": 24,
   "id": "1c957564",
   "metadata": {},
   "outputs": [],
   "source": [
    "def get_reviews(urls):\n",
    "    driver = webdriver.Chrome('chromedriver.exe')\n",
    "    for url, count in log_progress(urls, 1):\n",
    "        time.sleep(3)\n",
    "        try:\n",
    "            comments.extend(get_comment_element(url, driver, count))\n",
    "        except:\n",
    "            pass"
   ]
  },
  {
   "cell_type": "code",
   "execution_count": 26,
   "id": "b49c458d",
   "metadata": {
    "scrolled": true
   },
   "outputs": [
    {
     "data": {
      "application/vnd.jupyter.widget-view+json": {
       "model_id": "82586103926147e2ad9d56f3d25d2afa",
       "version_major": 2,
       "version_minor": 0
      },
      "text/plain": [
       "VBox(children=(HTML(value=''), IntProgress(value=0, max=1226)))"
      ]
     },
     "metadata": {},
     "output_type": "display_data"
    },
    {
     "data": {
      "application/vnd.jupyter.widget-view+json": {
       "model_id": "cbd95222f0ea4a4fbc4bd07ff70feaf6",
       "version_major": 2,
       "version_minor": 0
      },
      "text/plain": [
       "VBox(children=(HTML(value=''), IntProgress(value=0, max=1227)))"
      ]
     },
     "metadata": {},
     "output_type": "display_data"
    },
    {
     "data": {
      "application/vnd.jupyter.widget-view+json": {
       "model_id": "d0bd64dfd20b4defbd2ce99354267ef9",
       "version_major": 2,
       "version_minor": 0
      },
      "text/plain": [
       "VBox(children=(HTML(value=''), IntProgress(value=0, max=1226)))"
      ]
     },
     "metadata": {},
     "output_type": "display_data"
    },
    {
     "data": {
      "application/vnd.jupyter.widget-view+json": {
       "model_id": "fd73408913e548f3b6632917f27d9b03",
       "version_major": 2,
       "version_minor": 0
      },
      "text/plain": [
       "VBox(children=(HTML(value=''), IntProgress(value=0, max=1227)))"
      ]
     },
     "metadata": {},
     "output_type": "display_data"
    },
    {
     "data": {
      "application/vnd.jupyter.widget-view+json": {
       "model_id": "977e05b0881347d3af982d4810d7af85",
       "version_major": 2,
       "version_minor": 0
      },
      "text/plain": [
       "VBox(children=(HTML(value=''), IntProgress(value=0, max=1227)))"
      ]
     },
     "metadata": {},
     "output_type": "display_data"
    },
    {
     "data": {
      "application/vnd.jupyter.widget-view+json": {
       "model_id": "8346810c5a4c482b8d4081281dbb0fb5",
       "version_major": 2,
       "version_minor": 0
      },
      "text/plain": [
       "VBox(children=(HTML(value=''), IntProgress(value=0, max=1227)))"
      ]
     },
     "metadata": {},
     "output_type": "display_data"
    },
    {
     "data": {
      "application/vnd.jupyter.widget-view+json": {
       "model_id": "36eca929c71345f5a8f4be96fa377c4f",
       "version_major": 2,
       "version_minor": 0
      },
      "text/plain": [
       "VBox(children=(HTML(value=''), IntProgress(value=0, max=1227)))"
      ]
     },
     "metadata": {},
     "output_type": "display_data"
    },
    {
     "data": {
      "application/vnd.jupyter.widget-view+json": {
       "model_id": "8ef1b0f0f884465db118f27ba6fe870c",
       "version_major": 2,
       "version_minor": 0
      },
      "text/plain": [
       "VBox(children=(HTML(value=''), IntProgress(value=0, max=930)))"
      ]
     },
     "metadata": {},
     "output_type": "display_data"
    },
    {
     "data": {
      "application/vnd.jupyter.widget-view+json": {
       "model_id": "c8fdc3bd11ec4c718ec2d71fb0e62dd6",
       "version_major": 2,
       "version_minor": 0
      },
      "text/plain": [
       "VBox(children=(HTML(value=''), IntProgress(value=0, max=930)))"
      ]
     },
     "metadata": {},
     "output_type": "display_data"
    },
    {
     "data": {
      "application/vnd.jupyter.widget-view+json": {
       "model_id": "1bf6da93358b462080a2a322463986cd",
       "version_major": 2,
       "version_minor": 0
      },
      "text/plain": [
       "VBox(children=(HTML(value=''), IntProgress(value=0, max=930)))"
      ]
     },
     "metadata": {},
     "output_type": "display_data"
    },
    {
     "data": {
      "application/vnd.jupyter.widget-view+json": {
       "model_id": "87b4e678b2db4a0d81eac6914c1df590",
       "version_major": 2,
       "version_minor": 0
      },
      "text/plain": [
       "VBox(children=(HTML(value=''), IntProgress(value=0, max=930)))"
      ]
     },
     "metadata": {},
     "output_type": "display_data"
    },
    {
     "data": {
      "application/vnd.jupyter.widget-view+json": {
       "model_id": "41efd96f1c75417380a6297486322414",
       "version_major": 2,
       "version_minor": 0
      },
      "text/plain": [
       "VBox(children=(HTML(value=''), IntProgress(value=0, max=930)))"
      ]
     },
     "metadata": {},
     "output_type": "display_data"
    },
    {
     "data": {
      "application/vnd.jupyter.widget-view+json": {
       "model_id": "ccd0b92e681b47538051cf424c7f782a",
       "version_major": 2,
       "version_minor": 0
      },
      "text/plain": [
       "VBox(children=(HTML(value=''), IntProgress(value=0, max=930)))"
      ]
     },
     "metadata": {},
     "output_type": "display_data"
    },
    {
     "data": {
      "application/vnd.jupyter.widget-view+json": {
       "model_id": "ea55fe9c2f974d20816984a9dc63526d",
       "version_major": 2,
       "version_minor": 0
      },
      "text/plain": [
       "VBox(children=(HTML(value=''), IntProgress(value=0, max=930)))"
      ]
     },
     "metadata": {},
     "output_type": "display_data"
    },
    {
     "data": {
      "application/vnd.jupyter.widget-view+json": {
       "model_id": "5b8ed8308d8440c6904bc8959cac89c8",
       "version_major": 2,
       "version_minor": 0
      },
      "text/plain": [
       "VBox(children=(HTML(value=''), IntProgress(value=0, max=930)))"
      ]
     },
     "metadata": {},
     "output_type": "display_data"
    },
    {
     "data": {
      "application/vnd.jupyter.widget-view+json": {
       "model_id": "78f6732b228d4fc0b65c5ce33c2f2dba",
       "version_major": 2,
       "version_minor": 0
      },
      "text/plain": [
       "VBox(children=(HTML(value=''), IntProgress(value=0, max=930)))"
      ]
     },
     "metadata": {},
     "output_type": "display_data"
    },
    {
     "data": {
      "application/vnd.jupyter.widget-view+json": {
       "model_id": "934afda1cd624dacb0b94b916375e5a3",
       "version_major": 2,
       "version_minor": 0
      },
      "text/plain": [
       "VBox(children=(HTML(value=''), IntProgress(value=0, max=930)))"
      ]
     },
     "metadata": {},
     "output_type": "display_data"
    },
    {
     "data": {
      "application/vnd.jupyter.widget-view+json": {
       "model_id": "b9ce5b2a472542a796e4c770f663bf57",
       "version_major": 2,
       "version_minor": 0
      },
      "text/plain": [
       "VBox(children=(HTML(value=''), IntProgress(value=0, max=930)))"
      ]
     },
     "metadata": {},
     "output_type": "display_data"
    },
    {
     "data": {
      "application/vnd.jupyter.widget-view+json": {
       "model_id": "7256122ebbf54ba3beb98d27e6821ecf",
       "version_major": 2,
       "version_minor": 0
      },
      "text/plain": [
       "VBox(children=(HTML(value=''), IntProgress(value=0, max=930)))"
      ]
     },
     "metadata": {},
     "output_type": "display_data"
    }
   ],
   "source": [
    "comments = []\n",
    "\n",
    "if __name__== \"__main__\":\n",
    "    freeze_support()\n",
    "    pool = Pool()\n",
    "    ITERATION_COUNT = cpu_count()-1\n",
    "    for i in range(0, ITERATION_COUNT):\n",
    "        pool.apply_async(get_reviews, [d[i]])"
   ]
  },
  {
   "cell_type": "code",
   "execution_count": 38,
   "id": "7b43f772",
   "metadata": {},
   "outputs": [],
   "source": [
    "c_df = pd.DataFrame(comments)"
   ]
  },
  {
   "cell_type": "code",
   "execution_count": 37,
   "id": "1cabbd55",
   "metadata": {
    "scrolled": true
   },
   "outputs": [
    {
     "data": {
      "text/html": [
       "<div>\n",
       "<style scoped>\n",
       "    .dataframe tbody tr th:only-of-type {\n",
       "        vertical-align: middle;\n",
       "    }\n",
       "\n",
       "    .dataframe tbody tr th {\n",
       "        vertical-align: top;\n",
       "    }\n",
       "\n",
       "    .dataframe thead th {\n",
       "        text-align: right;\n",
       "    }\n",
       "</style>\n",
       "<table border=\"1\" class=\"dataframe\">\n",
       "  <thead>\n",
       "    <tr style=\"text-align: right;\">\n",
       "      <th></th>\n",
       "      <th>url</th>\n",
       "      <th>id_review</th>\n",
       "      <th>reviewer_page</th>\n",
       "      <th>reviewer_level</th>\n",
       "      <th>reviewer_counts</th>\n",
       "      <th>rating</th>\n",
       "      <th>likes</th>\n",
       "      <th>date</th>\n",
       "      <th>text</th>\n",
       "      <th>photos</th>\n",
       "    </tr>\n",
       "  </thead>\n",
       "  <tbody>\n",
       "    <tr>\n",
       "      <th>0</th>\n",
       "      <td>https://www.google.com/maps/place/?q=place_id:...</td>\n",
       "      <td>NaN</td>\n",
       "      <td>https://www.google.com/maps/contrib/1063546855...</td>\n",
       "      <td>Местный эксперт</td>\n",
       "      <td>29</td>\n",
       "      <td>5.0</td>\n",
       "      <td>0</td>\n",
       "      <td>неделю назад</td>\n",
       "      <td>Есть доставка.\\nБольшой ассортимент продуктов,...</td>\n",
       "      <td>[]</td>\n",
       "    </tr>\n",
       "    <tr>\n",
       "      <th>1</th>\n",
       "      <td>https://www.google.com/maps/place/?q=place_id:...</td>\n",
       "      <td>NaN</td>\n",
       "      <td>https://www.google.com/maps/contrib/1088620985...</td>\n",
       "      <td>Местный эксперт</td>\n",
       "      <td>25</td>\n",
       "      <td>5.0</td>\n",
       "      <td>0</td>\n",
       "      <td>3 недели назад</td>\n",
       "      <td>В Гипер Ленте есть почти всë и преимущество, ч...</td>\n",
       "      <td>[]</td>\n",
       "    </tr>\n",
       "    <tr>\n",
       "      <th>2</th>\n",
       "      <td>https://www.google.com/maps/place/?q=place_id:...</td>\n",
       "      <td>NaN</td>\n",
       "      <td>https://www.google.com/maps/contrib/1150924961...</td>\n",
       "      <td>Местный эксперт</td>\n",
       "      <td>38</td>\n",
       "      <td>4.0</td>\n",
       "      <td>1</td>\n",
       "      <td>2 месяца назад</td>\n",
       "      <td>Хороший выбор товаров на любой вкус и кошелёк....</td>\n",
       "      <td>[]</td>\n",
       "    </tr>\n",
       "    <tr>\n",
       "      <th>3</th>\n",
       "      <td>https://www.google.com/maps/place/?q=place_id:...</td>\n",
       "      <td>NaN</td>\n",
       "      <td>https://www.google.com/maps/contrib/1102283153...</td>\n",
       "      <td>16 отзывов</td>\n",
       "      <td>0</td>\n",
       "      <td>5.0</td>\n",
       "      <td>0</td>\n",
       "      <td>неделю назад</td>\n",
       "      <td>Хороший гипермаркет,с приятными ценами и скидк...</td>\n",
       "      <td>[]</td>\n",
       "    </tr>\n",
       "    <tr>\n",
       "      <th>4</th>\n",
       "      <td>https://www.google.com/maps/place/?q=place_id:...</td>\n",
       "      <td>NaN</td>\n",
       "      <td>https://www.google.com/maps/contrib/1054766260...</td>\n",
       "      <td>Местный эксперт</td>\n",
       "      <td>11</td>\n",
       "      <td>5.0</td>\n",
       "      <td>0</td>\n",
       "      <td>6 дней назад</td>\n",
       "      <td>Обожаю Ленту за огромный выбор товаров на все ...</td>\n",
       "      <td>[]</td>\n",
       "    </tr>\n",
       "    <tr>\n",
       "      <th>...</th>\n",
       "      <td>...</td>\n",
       "      <td>...</td>\n",
       "      <td>...</td>\n",
       "      <td>...</td>\n",
       "      <td>...</td>\n",
       "      <td>...</td>\n",
       "      <td>...</td>\n",
       "      <td>...</td>\n",
       "      <td>...</td>\n",
       "      <td>...</td>\n",
       "    </tr>\n",
       "    <tr>\n",
       "      <th>43706</th>\n",
       "      <td>https://www.google.com/maps/place/?q=place_id:...</td>\n",
       "      <td>ChZDSUhNMG9nS0VJQ0FnSURRNXFfb0FnEAE</td>\n",
       "      <td>https://www.google.com/maps/contrib/1111911437...</td>\n",
       "      <td>Местный эксперт</td>\n",
       "      <td>59</td>\n",
       "      <td>5</td>\n",
       "      <td>0</td>\n",
       "      <td>3 года назад</td>\n",
       "      <td></td>\n",
       "      <td>[]</td>\n",
       "    </tr>\n",
       "    <tr>\n",
       "      <th>43707</th>\n",
       "      <td>https://www.google.com/maps/place/?q=place_id:...</td>\n",
       "      <td>ChZDSUhNMG9nS0VJQ0FnSURnX01IdEFREAE</td>\n",
       "      <td>https://www.google.com/maps/contrib/1135669361...</td>\n",
       "      <td></td>\n",
       "      <td>0</td>\n",
       "      <td>4</td>\n",
       "      <td>0</td>\n",
       "      <td>3 года назад</td>\n",
       "      <td></td>\n",
       "      <td>[]</td>\n",
       "    </tr>\n",
       "    <tr>\n",
       "      <th>43708</th>\n",
       "      <td>https://www.google.com/maps/place/?q=place_id:...</td>\n",
       "      <td>ChZDSUhNMG9nS0VJQ0FnSURndDc3bEFREAE</td>\n",
       "      <td>https://www.google.com/maps/contrib/1023406551...</td>\n",
       "      <td>Местный эксперт</td>\n",
       "      <td>0</td>\n",
       "      <td>5</td>\n",
       "      <td>0</td>\n",
       "      <td>3 года назад</td>\n",
       "      <td></td>\n",
       "      <td>[]</td>\n",
       "    </tr>\n",
       "    <tr>\n",
       "      <th>43709</th>\n",
       "      <td>https://www.google.com/maps/place/?q=place_id:...</td>\n",
       "      <td>ChRDSUhNMG9nS0VJQ0FnSUNDM0xsNhAB</td>\n",
       "      <td>https://www.google.com/maps/contrib/1053626629...</td>\n",
       "      <td></td>\n",
       "      <td>0</td>\n",
       "      <td>5</td>\n",
       "      <td>0</td>\n",
       "      <td>год назад</td>\n",
       "      <td></td>\n",
       "      <td>[]</td>\n",
       "    </tr>\n",
       "    <tr>\n",
       "      <th>43710</th>\n",
       "      <td>https://www.google.com/maps/place/?q=place_id:...</td>\n",
       "      <td>ChRDSUhNMG9nS0VJQ0FnSUMwd081YhAB</td>\n",
       "      <td>https://www.google.com/maps/contrib/1044169106...</td>\n",
       "      <td>3 отзыва</td>\n",
       "      <td>0</td>\n",
       "      <td>5</td>\n",
       "      <td>0</td>\n",
       "      <td>2 года назад</td>\n",
       "      <td></td>\n",
       "      <td>[]</td>\n",
       "    </tr>\n",
       "  </tbody>\n",
       "</table>\n",
       "<p>104781 rows × 10 columns</p>\n",
       "</div>"
      ],
      "text/plain": [
       "                                                     url  \\\n",
       "0      https://www.google.com/maps/place/?q=place_id:...   \n",
       "1      https://www.google.com/maps/place/?q=place_id:...   \n",
       "2      https://www.google.com/maps/place/?q=place_id:...   \n",
       "3      https://www.google.com/maps/place/?q=place_id:...   \n",
       "4      https://www.google.com/maps/place/?q=place_id:...   \n",
       "...                                                  ...   \n",
       "43706  https://www.google.com/maps/place/?q=place_id:...   \n",
       "43707  https://www.google.com/maps/place/?q=place_id:...   \n",
       "43708  https://www.google.com/maps/place/?q=place_id:...   \n",
       "43709  https://www.google.com/maps/place/?q=place_id:...   \n",
       "43710  https://www.google.com/maps/place/?q=place_id:...   \n",
       "\n",
       "                                 id_review  \\\n",
       "0                                      NaN   \n",
       "1                                      NaN   \n",
       "2                                      NaN   \n",
       "3                                      NaN   \n",
       "4                                      NaN   \n",
       "...                                    ...   \n",
       "43706  ChZDSUhNMG9nS0VJQ0FnSURRNXFfb0FnEAE   \n",
       "43707  ChZDSUhNMG9nS0VJQ0FnSURnX01IdEFREAE   \n",
       "43708  ChZDSUhNMG9nS0VJQ0FnSURndDc3bEFREAE   \n",
       "43709     ChRDSUhNMG9nS0VJQ0FnSUNDM0xsNhAB   \n",
       "43710     ChRDSUhNMG9nS0VJQ0FnSUMwd081YhAB   \n",
       "\n",
       "                                           reviewer_page   reviewer_level  \\\n",
       "0      https://www.google.com/maps/contrib/1063546855...  Местный эксперт   \n",
       "1      https://www.google.com/maps/contrib/1088620985...  Местный эксперт   \n",
       "2      https://www.google.com/maps/contrib/1150924961...  Местный эксперт   \n",
       "3      https://www.google.com/maps/contrib/1102283153...       16 отзывов   \n",
       "4      https://www.google.com/maps/contrib/1054766260...  Местный эксперт   \n",
       "...                                                  ...              ...   \n",
       "43706  https://www.google.com/maps/contrib/1111911437...  Местный эксперт   \n",
       "43707  https://www.google.com/maps/contrib/1135669361...                    \n",
       "43708  https://www.google.com/maps/contrib/1023406551...  Местный эксперт   \n",
       "43709  https://www.google.com/maps/contrib/1053626629...                    \n",
       "43710  https://www.google.com/maps/contrib/1044169106...         3 отзыва   \n",
       "\n",
       "      reviewer_counts rating  likes            date  \\\n",
       "0                  29    5.0      0    неделю назад   \n",
       "1                  25    5.0      0  3 недели назад   \n",
       "2                  38    4.0      1  2 месяца назад   \n",
       "3                   0    5.0      0    неделю назад   \n",
       "4                  11    5.0      0    6 дней назад   \n",
       "...               ...    ...    ...             ...   \n",
       "43706              59      5      0    3 года назад   \n",
       "43707               0      4      0    3 года назад   \n",
       "43708               0      5      0    3 года назад   \n",
       "43709               0      5      0       год назад   \n",
       "43710               0      5      0    2 года назад   \n",
       "\n",
       "                                                    text photos  \n",
       "0      Есть доставка.\\nБольшой ассортимент продуктов,...     []  \n",
       "1      В Гипер Ленте есть почти всë и преимущество, ч...     []  \n",
       "2      Хороший выбор товаров на любой вкус и кошелёк....     []  \n",
       "3      Хороший гипермаркет,с приятными ценами и скидк...     []  \n",
       "4      Обожаю Ленту за огромный выбор товаров на все ...     []  \n",
       "...                                                  ...    ...  \n",
       "43706                                                        []  \n",
       "43707                                                        []  \n",
       "43708                                                        []  \n",
       "43709                                                        []  \n",
       "43710                                                        []  \n",
       "\n",
       "[104781 rows x 10 columns]"
      ]
     },
     "execution_count": 37,
     "metadata": {},
     "output_type": "execute_result"
    },
    {
     "data": {
      "application/vnd.jupyter.widget-view+json": {
       "model_id": "e659aa2bcd9b4bf796df2701ecd6c4a5",
       "version_major": 2,
       "version_minor": 0
      },
      "text/plain": [
       "VBox(children=(HTML(value=''), IntProgress(value=0, max=680)))"
      ]
     },
     "metadata": {},
     "output_type": "display_data"
    },
    {
     "data": {
      "application/vnd.jupyter.widget-view+json": {
       "model_id": "ee848292dabe4afe82bd3bd818fd97ee",
       "version_major": 2,
       "version_minor": 0
      },
      "text/plain": [
       "VBox(children=(HTML(value=''), IntProgress(value=0, max=662)))"
      ]
     },
     "metadata": {},
     "output_type": "display_data"
    },
    {
     "data": {
      "application/vnd.jupyter.widget-view+json": {
       "model_id": "758462ad35274661965f7bd03de73231",
       "version_major": 2,
       "version_minor": 0
      },
      "text/plain": [
       "VBox(children=(HTML(value=''), IntProgress(value=0, max=744)))"
      ]
     },
     "metadata": {},
     "output_type": "display_data"
    },
    {
     "data": {
      "application/vnd.jupyter.widget-view+json": {
       "model_id": "80cd106c47614766a34b201209873e8d",
       "version_major": 2,
       "version_minor": 0
      },
      "text/plain": [
       "VBox(children=(HTML(value=''), IntProgress(value=0, max=706)))"
      ]
     },
     "metadata": {},
     "output_type": "display_data"
    },
    {
     "data": {
      "application/vnd.jupyter.widget-view+json": {
       "model_id": "33a7164d058140edb09a7575a06ba7e0",
       "version_major": 2,
       "version_minor": 0
      },
      "text/plain": [
       "VBox(children=(HTML(value=''), IntProgress(value=0, max=704)))"
      ]
     },
     "metadata": {},
     "output_type": "display_data"
    },
    {
     "data": {
      "application/vnd.jupyter.widget-view+json": {
       "model_id": "98dc63916c0d4851b64393ebf7ea57c8",
       "version_major": 2,
       "version_minor": 0
      },
      "text/plain": [
       "VBox(children=(HTML(value=''), IntProgress(value=0, max=808)))"
      ]
     },
     "metadata": {},
     "output_type": "display_data"
    }
   ],
   "source": [
    "pd.concat([comments_df, c_df])"
   ]
  },
  {
   "cell_type": "code",
   "execution_count": 35,
   "id": "196e5f70",
   "metadata": {},
   "outputs": [
    {
     "data": {
      "application/vnd.jupyter.widget-view+json": {
       "model_id": "fbe29843623c43129ed47de91656b77a",
       "version_major": 2,
       "version_minor": 0
      },
      "text/plain": [
       "VBox(children=(HTML(value=''), IntProgress(value=0, max=795)))"
      ]
     },
     "metadata": {},
     "output_type": "display_data"
    },
    {
     "data": {
      "application/vnd.jupyter.widget-view+json": {
       "model_id": "cd3e249d2e144452a051cd3af857e447",
       "version_major": 2,
       "version_minor": 0
      },
      "text/plain": [
       "VBox(children=(HTML(value=''), IntProgress(value=0, max=792)))"
      ]
     },
     "metadata": {},
     "output_type": "display_data"
    },
    {
     "data": {
      "application/vnd.jupyter.widget-view+json": {
       "model_id": "dab7d9340d2e4c6fa3398c414b22e8cc",
       "version_major": 2,
       "version_minor": 0
      },
      "text/plain": [
       "VBox(children=(HTML(value=''), IntProgress(value=0, max=810)))"
      ]
     },
     "metadata": {},
     "output_type": "display_data"
    },
    {
     "data": {
      "application/vnd.jupyter.widget-view+json": {
       "model_id": "a8b3d67cf2d24c01ac9864ddac7fbdaf",
       "version_major": 2,
       "version_minor": 0
      },
      "text/plain": [
       "VBox(children=(HTML(value=''), IntProgress(value=0, max=803)))"
      ]
     },
     "metadata": {},
     "output_type": "display_data"
    },
    {
     "data": {
      "application/vnd.jupyter.widget-view+json": {
       "model_id": "f0a65f71e1e44fdbaef88bdee985d4d6",
       "version_major": 2,
       "version_minor": 0
      },
      "text/plain": [
       "VBox(children=(HTML(value=''), IntProgress(value=0, max=810)))"
      ]
     },
     "metadata": {},
     "output_type": "display_data"
    },
    {
     "data": {
      "application/vnd.jupyter.widget-view+json": {
       "model_id": "34c9ba32816e472d99691aa129a9a8fd",
       "version_major": 2,
       "version_minor": 0
      },
      "text/plain": [
       "VBox(children=(HTML(value=''), IntProgress(value=0, max=910)))"
      ]
     },
     "metadata": {},
     "output_type": "display_data"
    },
    {
     "data": {
      "application/vnd.jupyter.widget-view+json": {
       "model_id": "be33c3bac3424cb6818df4054a9a2fc7",
       "version_major": 2,
       "version_minor": 0
      },
      "text/plain": [
       "VBox(children=(HTML(value=''), IntProgress(value=0, max=912)))"
      ]
     },
     "metadata": {},
     "output_type": "display_data"
    },
    {
     "data": {
      "application/vnd.jupyter.widget-view+json": {
       "model_id": "00d2ab719a2e428b8a22a47a6c31e76c",
       "version_major": 2,
       "version_minor": 0
      },
      "text/plain": [
       "VBox(children=(HTML(value=''), IntProgress(value=0, max=754)))"
      ]
     },
     "metadata": {},
     "output_type": "display_data"
    },
    {
     "data": {
      "application/vnd.jupyter.widget-view+json": {
       "model_id": "de5e889e00f948a1924f5da6cb7730e6",
       "version_major": 2,
       "version_minor": 0
      },
      "text/plain": [
       "VBox(children=(HTML(value=''), IntProgress(value=0, max=788)))"
      ]
     },
     "metadata": {},
     "output_type": "display_data"
    },
    {
     "data": {
      "application/vnd.jupyter.widget-view+json": {
       "model_id": "32914e130a924521aadccac87b7c08fb",
       "version_major": 2,
       "version_minor": 0
      },
      "text/plain": [
       "VBox(children=(HTML(value=''), IntProgress(value=0, max=756)))"
      ]
     },
     "metadata": {},
     "output_type": "display_data"
    },
    {
     "data": {
      "application/vnd.jupyter.widget-view+json": {
       "model_id": "f78b14a085014a52ad880389b4c88c2a",
       "version_major": 2,
       "version_minor": 0
      },
      "text/plain": [
       "VBox(children=(HTML(value=''), IntProgress(value=0, max=758)))"
      ]
     },
     "metadata": {},
     "output_type": "display_data"
    },
    {
     "data": {
      "application/vnd.jupyter.widget-view+json": {
       "model_id": "940786a3171545fabc74994c09f43dc4",
       "version_major": 2,
       "version_minor": 0
      },
      "text/plain": [
       "VBox(children=(HTML(value=''), IntProgress(value=0, max=788)))"
      ]
     },
     "metadata": {},
     "output_type": "display_data"
    },
    {
     "data": {
      "application/vnd.jupyter.widget-view+json": {
       "model_id": "7a8c0e76e35c454ea3b8470180270d58",
       "version_major": 2,
       "version_minor": 0
      },
      "text/plain": [
       "VBox(children=(HTML(value=''), IntProgress(value=0, max=840)))"
      ]
     },
     "metadata": {},
     "output_type": "display_data"
    },
    {
     "data": {
      "application/vnd.jupyter.widget-view+json": {
       "model_id": "2d4a701b5fe5407899b0aa93e2015efa",
       "version_major": 2,
       "version_minor": 0
      },
      "text/plain": [
       "VBox(children=(HTML(value=''), IntProgress(value=0, max=734)))"
      ]
     },
     "metadata": {},
     "output_type": "display_data"
    },
    {
     "data": {
      "application/vnd.jupyter.widget-view+json": {
       "model_id": "e42a9c4ab0e146cca45f1551a8f1aafd",
       "version_major": 2,
       "version_minor": 0
      },
      "text/plain": [
       "VBox(children=(HTML(value=''), IntProgress(value=0, max=860)))"
      ]
     },
     "metadata": {},
     "output_type": "display_data"
    },
    {
     "data": {
      "application/vnd.jupyter.widget-view+json": {
       "model_id": "775cfcf490bd4b54b377e259e12ef705",
       "version_major": 2,
       "version_minor": 0
      },
      "text/plain": [
       "VBox(children=(HTML(value=''), IntProgress(value=0, max=560)))"
      ]
     },
     "metadata": {},
     "output_type": "display_data"
    }
   ],
   "source": [
    "pd.concat([comments_df, c_df]).to_csv('../data/comments.csv', index = False)"
   ]
  },
  {
   "cell_type": "code",
   "execution_count": 221,
   "id": "574520df",
   "metadata": {},
   "outputs": [
    {
     "data": {
      "text/html": [
       "<div>\n",
       "<style scoped>\n",
       "    .dataframe tbody tr th:only-of-type {\n",
       "        vertical-align: middle;\n",
       "    }\n",
       "\n",
       "    .dataframe tbody tr th {\n",
       "        vertical-align: top;\n",
       "    }\n",
       "\n",
       "    .dataframe thead th {\n",
       "        text-align: right;\n",
       "    }\n",
       "</style>\n",
       "<table border=\"1\" class=\"dataframe\">\n",
       "  <thead>\n",
       "    <tr style=\"text-align: right;\">\n",
       "      <th></th>\n",
       "      <th>url</th>\n",
       "      <th>id_review</th>\n",
       "      <th>reviewer_page</th>\n",
       "      <th>reviewer_level</th>\n",
       "      <th>reviewer_counts</th>\n",
       "      <th>rating</th>\n",
       "      <th>likes</th>\n",
       "      <th>date</th>\n",
       "      <th>text</th>\n",
       "      <th>photos</th>\n",
       "    </tr>\n",
       "  </thead>\n",
       "  <tbody>\n",
       "    <tr>\n",
       "      <th>0</th>\n",
       "      <td>https://www.google.com/maps/place/?q=place_id:...</td>\n",
       "      <td></td>\n",
       "      <td>https://www.google.com/maps/contrib/1063546855...</td>\n",
       "      <td>Местный эксперт</td>\n",
       "      <td>29</td>\n",
       "      <td>5</td>\n",
       "      <td>0</td>\n",
       "      <td>неделю назад</td>\n",
       "      <td>Есть доставка.\\nБольшой ассортимент продуктов,...</td>\n",
       "      <td>[]</td>\n",
       "    </tr>\n",
       "    <tr>\n",
       "      <th>1</th>\n",
       "      <td>https://www.google.com/maps/place/?q=place_id:...</td>\n",
       "      <td></td>\n",
       "      <td>https://www.google.com/maps/contrib/1088620985...</td>\n",
       "      <td>Местный эксперт</td>\n",
       "      <td>25</td>\n",
       "      <td>5</td>\n",
       "      <td>0</td>\n",
       "      <td>3 недели назад</td>\n",
       "      <td>В Гипер Ленте есть почти всë и преимущество, ч...</td>\n",
       "      <td>[]</td>\n",
       "    </tr>\n",
       "    <tr>\n",
       "      <th>2</th>\n",
       "      <td>https://www.google.com/maps/place/?q=place_id:...</td>\n",
       "      <td></td>\n",
       "      <td>https://www.google.com/maps/contrib/1150924961...</td>\n",
       "      <td>Местный эксперт</td>\n",
       "      <td>38</td>\n",
       "      <td>4</td>\n",
       "      <td>1</td>\n",
       "      <td>2 месяца назад</td>\n",
       "      <td>Хороший выбор товаров на любой вкус и кошелёк....</td>\n",
       "      <td>[]</td>\n",
       "    </tr>\n",
       "    <tr>\n",
       "      <th>3</th>\n",
       "      <td>https://www.google.com/maps/place/?q=place_id:...</td>\n",
       "      <td></td>\n",
       "      <td>https://www.google.com/maps/contrib/1102283153...</td>\n",
       "      <td>16 отзывов</td>\n",
       "      <td>0</td>\n",
       "      <td>5</td>\n",
       "      <td>0</td>\n",
       "      <td>неделю назад</td>\n",
       "      <td>Хороший гипермаркет,с приятными ценами и скидк...</td>\n",
       "      <td>[]</td>\n",
       "    </tr>\n",
       "    <tr>\n",
       "      <th>4</th>\n",
       "      <td>https://www.google.com/maps/place/?q=place_id:...</td>\n",
       "      <td></td>\n",
       "      <td>https://www.google.com/maps/contrib/1054766260...</td>\n",
       "      <td>Местный эксперт</td>\n",
       "      <td>11</td>\n",
       "      <td>5</td>\n",
       "      <td>0</td>\n",
       "      <td>6 дней назад</td>\n",
       "      <td>Обожаю Ленту за огромный выбор товаров на все ...</td>\n",
       "      <td>[]</td>\n",
       "    </tr>\n",
       "    <tr>\n",
       "      <th>...</th>\n",
       "      <td>...</td>\n",
       "      <td>...</td>\n",
       "      <td>...</td>\n",
       "      <td>...</td>\n",
       "      <td>...</td>\n",
       "      <td>...</td>\n",
       "      <td>...</td>\n",
       "      <td>...</td>\n",
       "      <td>...</td>\n",
       "      <td>...</td>\n",
       "    </tr>\n",
       "    <tr>\n",
       "      <th>63017</th>\n",
       "      <td>https://www.google.com/maps/place/?q=place_id:...</td>\n",
       "      <td></td>\n",
       "      <td>https://www.google.com/maps/contrib/1031220674...</td>\n",
       "      <td>3 отзыва</td>\n",
       "      <td>0</td>\n",
       "      <td>5</td>\n",
       "      <td>0</td>\n",
       "      <td>2 года назад</td>\n",
       "      <td>Стейк из телятины средней прожарки великолепный!</td>\n",
       "      <td>[https://lh5.googleusercontent.com/p/AF1QipPLz...</td>\n",
       "    </tr>\n",
       "    <tr>\n",
       "      <th>63018</th>\n",
       "      <td>https://www.google.com/maps/place/?q=place_id:...</td>\n",
       "      <td></td>\n",
       "      <td></td>\n",
       "      <td></td>\n",
       "      <td>0</td>\n",
       "      <td>4</td>\n",
       "      <td>0</td>\n",
       "      <td>3 года назад</td>\n",
       "      <td></td>\n",
       "      <td>[https://lh5.googleusercontent.com/p/AF1QipOc8...</td>\n",
       "    </tr>\n",
       "    <tr>\n",
       "      <th>63019</th>\n",
       "      <td>https://www.google.com/maps/place/?q=place_id:...</td>\n",
       "      <td></td>\n",
       "      <td></td>\n",
       "      <td></td>\n",
       "      <td>0</td>\n",
       "      <td></td>\n",
       "      <td>0</td>\n",
       "      <td></td>\n",
       "      <td></td>\n",
       "      <td>[]</td>\n",
       "    </tr>\n",
       "    <tr>\n",
       "      <th>63020</th>\n",
       "      <td>https://www.google.com/maps/place/?q=place_id:...</td>\n",
       "      <td></td>\n",
       "      <td></td>\n",
       "      <td></td>\n",
       "      <td>0</td>\n",
       "      <td></td>\n",
       "      <td>0</td>\n",
       "      <td></td>\n",
       "      <td></td>\n",
       "      <td>[]</td>\n",
       "    </tr>\n",
       "    <tr>\n",
       "      <th>63021</th>\n",
       "      <td>https://www.google.com/maps/place/?q=place_id:...</td>\n",
       "      <td></td>\n",
       "      <td></td>\n",
       "      <td></td>\n",
       "      <td>0</td>\n",
       "      <td></td>\n",
       "      <td>0</td>\n",
       "      <td></td>\n",
       "      <td></td>\n",
       "      <td>[]</td>\n",
       "    </tr>\n",
       "  </tbody>\n",
       "</table>\n",
       "<p>63022 rows × 10 columns</p>\n",
       "</div>"
      ],
      "text/plain": [
       "                                                     url id_review  \\\n",
       "0      https://www.google.com/maps/place/?q=place_id:...             \n",
       "1      https://www.google.com/maps/place/?q=place_id:...             \n",
       "2      https://www.google.com/maps/place/?q=place_id:...             \n",
       "3      https://www.google.com/maps/place/?q=place_id:...             \n",
       "4      https://www.google.com/maps/place/?q=place_id:...             \n",
       "...                                                  ...       ...   \n",
       "63017  https://www.google.com/maps/place/?q=place_id:...             \n",
       "63018  https://www.google.com/maps/place/?q=place_id:...             \n",
       "63019  https://www.google.com/maps/place/?q=place_id:...             \n",
       "63020  https://www.google.com/maps/place/?q=place_id:...             \n",
       "63021  https://www.google.com/maps/place/?q=place_id:...             \n",
       "\n",
       "                                           reviewer_page   reviewer_level  \\\n",
       "0      https://www.google.com/maps/contrib/1063546855...  Местный эксперт   \n",
       "1      https://www.google.com/maps/contrib/1088620985...  Местный эксперт   \n",
       "2      https://www.google.com/maps/contrib/1150924961...  Местный эксперт   \n",
       "3      https://www.google.com/maps/contrib/1102283153...       16 отзывов   \n",
       "4      https://www.google.com/maps/contrib/1054766260...  Местный эксперт   \n",
       "...                                                  ...              ...   \n",
       "63017  https://www.google.com/maps/contrib/1031220674...         3 отзыва   \n",
       "63018                                                                       \n",
       "63019                                                                       \n",
       "63020                                                                       \n",
       "63021                                                                       \n",
       "\n",
       "      reviewer_counts rating  likes            date  \\\n",
       "0                  29      5      0    неделю назад   \n",
       "1                  25      5      0  3 недели назад   \n",
       "2                  38      4      1  2 месяца назад   \n",
       "3                   0      5      0    неделю назад   \n",
       "4                  11      5      0    6 дней назад   \n",
       "...               ...    ...    ...             ...   \n",
       "63017               0      5      0    2 года назад   \n",
       "63018               0      4      0    3 года назад   \n",
       "63019               0             0                   \n",
       "63020               0             0                   \n",
       "63021               0             0                   \n",
       "\n",
       "                                                    text  \\\n",
       "0      Есть доставка.\\nБольшой ассортимент продуктов,...   \n",
       "1      В Гипер Ленте есть почти всë и преимущество, ч...   \n",
       "2      Хороший выбор товаров на любой вкус и кошелёк....   \n",
       "3      Хороший гипермаркет,с приятными ценами и скидк...   \n",
       "4      Обожаю Ленту за огромный выбор товаров на все ...   \n",
       "...                                                  ...   \n",
       "63017   Стейк из телятины средней прожарки великолепный!   \n",
       "63018                                                      \n",
       "63019                                                      \n",
       "63020                                                      \n",
       "63021                                                      \n",
       "\n",
       "                                                  photos  \n",
       "0                                                     []  \n",
       "1                                                     []  \n",
       "2                                                     []  \n",
       "3                                                     []  \n",
       "4                                                     []  \n",
       "...                                                  ...  \n",
       "63017  [https://lh5.googleusercontent.com/p/AF1QipPLz...  \n",
       "63018  [https://lh5.googleusercontent.com/p/AF1QipOc8...  \n",
       "63019                                                 []  \n",
       "63020                                                 []  \n",
       "63021                                                 []  \n",
       "\n",
       "[63022 rows x 10 columns]"
      ]
     },
     "execution_count": 221,
     "metadata": {},
     "output_type": "execute_result"
    }
   ],
   "source": [
    "comments_df"
   ]
  }
 ],
 "metadata": {
  "kernelspec": {
   "display_name": "Python 3 (ipykernel)",
   "language": "python",
   "name": "python3"
  },
  "language_info": {
   "codemirror_mode": {
    "name": "ipython",
    "version": 3
   },
   "file_extension": ".py",
   "mimetype": "text/x-python",
   "name": "python",
   "nbconvert_exporter": "python",
   "pygments_lexer": "ipython3",
   "version": "3.9.7"
  }
 },
 "nbformat": 4,
 "nbformat_minor": 5
}
