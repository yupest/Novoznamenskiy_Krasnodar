{
 "cells": [
  {
   "cell_type": "markdown",
   "id": "574244c5",
   "metadata": {},
   "source": [
    "https://towardsdatascience.com/a-beginners-guide-to-sentiment-analysis-in-python-95e354ea84f6"
   ]
  },
  {
   "cell_type": "code",
   "execution_count": 5,
   "id": "e04dd859",
   "metadata": {},
   "outputs": [],
   "source": [
    "import pandas as pd #работа с датафреймами- таблицами\n",
    "import pymorphy2 as pm #части речи, формы\n",
    "import re #регулярные выражения\n",
    "from multiprocessing.dummy import Pool\n",
    "from multiprocessing import cpu_count, freeze_support\n",
    "import time\n",
    "from IPython.display import display \n",
    "import nltk\n",
    "import numpy as np"
   ]
  },
  {
   "cell_type": "code",
   "execution_count": 19,
   "id": "4c8690ef",
   "metadata": {},
   "outputs": [],
   "source": [
    "df = pd.read_csv('../data/comments_filled_sent.csv')"
   ]
  },
  {
   "cell_type": "code",
   "execution_count": 20,
   "id": "14cb47c7",
   "metadata": {},
   "outputs": [],
   "source": [
    "df = df.loc[~df.normal_sentense.isna()]"
   ]
  },
  {
   "cell_type": "code",
   "execution_count": 36,
   "id": "26f0683c",
   "metadata": {},
   "outputs": [
    {
     "data": {
      "text/plain": [
       "(198819, 18)"
      ]
     },
     "execution_count": 36,
     "metadata": {},
     "output_type": "execute_result"
    }
   ],
   "source": [
    "df.shape"
   ]
  },
  {
   "cell_type": "code",
   "execution_count": 3,
   "id": "18f7a41f",
   "metadata": {},
   "outputs": [],
   "source": [
    "df = df[df['rating'] != 3]\n",
    "df['sentiment'] = df['rating'].apply(lambda rating : +1 if rating > 3 else -1)"
   ]
  },
  {
   "cell_type": "code",
   "execution_count": 21,
   "id": "045f9855",
   "metadata": {},
   "outputs": [],
   "source": [
    "# df = df[df['score'] > 0]\n",
    "df['sentiment'] = df['score'].apply(lambda rating : 1 if rating > 0 else -1)"
   ]
  },
  {
   "cell_type": "code",
   "execution_count": 22,
   "id": "555a19de",
   "metadata": {},
   "outputs": [],
   "source": [
    "index = df.index\n",
    "df['random_number'] = np.random.randn(len(index))\n",
    "train = df[df['random_number'] <= 0.8]\n",
    "test = df[df['random_number'] > 0.8]"
   ]
  },
  {
   "cell_type": "code",
   "execution_count": 23,
   "id": "0981e66d",
   "metadata": {},
   "outputs": [],
   "source": [
    "from sklearn.feature_extraction.text import CountVectorizer\n",
    "vectorizer = CountVectorizer(token_pattern=r'\\b\\w+\\b')\n",
    "train_matrix = vectorizer.fit_transform(train['normal_sentense'])\n",
    "test_matrix = vectorizer.transform(test['normal_sentense'])"
   ]
  },
  {
   "cell_type": "code",
   "execution_count": 24,
   "id": "0c24bf61",
   "metadata": {},
   "outputs": [],
   "source": [
    "# Logistic Regression\n",
    "from sklearn.linear_model import LogisticRegression\n",
    "lr = LogisticRegression()"
   ]
  },
  {
   "cell_type": "code",
   "execution_count": 25,
   "id": "e3ef460a",
   "metadata": {},
   "outputs": [],
   "source": [
    "X_train = train_matrix\n",
    "X_test = test_matrix\n",
    "y_train = train['sentiment']\n",
    "y_test = test['sentiment']"
   ]
  },
  {
   "cell_type": "code",
   "execution_count": 26,
   "id": "b7574b5e",
   "metadata": {},
   "outputs": [
    {
     "name": "stderr",
     "output_type": "stream",
     "text": [
      "C:\\Users\\yupes\\anaconda3\\envs\\python-gis\\lib\\site-packages\\sklearn\\linear_model\\_logistic.py:814: ConvergenceWarning: lbfgs failed to converge (status=1):\n",
      "STOP: TOTAL NO. of ITERATIONS REACHED LIMIT.\n",
      "\n",
      "Increase the number of iterations (max_iter) or scale the data as shown in:\n",
      "    https://scikit-learn.org/stable/modules/preprocessing.html\n",
      "Please also refer to the documentation for alternative solver options:\n",
      "    https://scikit-learn.org/stable/modules/linear_model.html#logistic-regression\n",
      "  n_iter_i = _check_optimize_result(\n"
     ]
    },
    {
     "data": {
      "text/plain": [
       "LogisticRegression()"
      ]
     },
     "execution_count": 26,
     "metadata": {},
     "output_type": "execute_result"
    }
   ],
   "source": [
    "lr.fit(X_train,y_train)"
   ]
  },
  {
   "cell_type": "code",
   "execution_count": 27,
   "id": "f5a19804",
   "metadata": {},
   "outputs": [],
   "source": [
    "predictions = lr.predict(X_test)"
   ]
  },
  {
   "cell_type": "code",
   "execution_count": 28,
   "id": "af10f51f",
   "metadata": {},
   "outputs": [
    {
     "data": {
      "text/plain": [
       "array([[11251,   698],\n",
       "       [  689, 29483]], dtype=int64)"
      ]
     },
     "execution_count": 28,
     "metadata": {},
     "output_type": "execute_result"
    }
   ],
   "source": [
    "# find accuracy, precision, recall:\n",
    "from sklearn.metrics import confusion_matrix,classification_report\n",
    "new = np.asarray(y_test)\n",
    "confusion_matrix(predictions,y_test)"
   ]
  },
  {
   "cell_type": "code",
   "execution_count": 34,
   "id": "d2ef578f",
   "metadata": {},
   "outputs": [
    {
     "name": "stdout",
     "output_type": "stream",
     "text": [
      "              precision    recall  f1-score   support\n",
      "\n",
      "          -1       0.94      0.94      0.94     11949\n",
      "           1       0.98      0.98      0.98     30172\n",
      "\n",
      "    accuracy                           0.97     42121\n",
      "   macro avg       0.96      0.96      0.96     42121\n",
      "weighted avg       0.97      0.97      0.97     42121\n",
      "\n"
     ]
    }
   ],
   "source": [
    "print(classification_report(predictions,y_test))"
   ]
  }
 ],
 "metadata": {
  "kernelspec": {
   "display_name": "Python 3 (ipykernel)",
   "language": "python",
   "name": "python3"
  },
  "language_info": {
   "codemirror_mode": {
    "name": "ipython",
    "version": 3
   },
   "file_extension": ".py",
   "mimetype": "text/x-python",
   "name": "python",
   "nbconvert_exporter": "python",
   "pygments_lexer": "ipython3",
   "version": "3.9.7"
  }
 },
 "nbformat": 4,
 "nbformat_minor": 5
}
